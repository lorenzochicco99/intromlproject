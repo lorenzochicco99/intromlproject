{
 "cells": [
  {
   "cell_type": "code",
   "execution_count": 1,
   "metadata": {},
   "outputs": [
    {
     "name": "stderr",
     "output_type": "stream",
     "text": [
      "2024-05-27 08:46:09.835673: I tensorflow/core/platform/cpu_feature_guard.cc:210] This TensorFlow binary is optimized to use available CPU instructions in performance-critical operations.\n",
      "To enable the following instructions: AVX2 FMA, in other operations, rebuild TensorFlow with the appropriate compiler flags.\n",
      "2024-05-27 08:46:10.532910: W tensorflow/compiler/tf2tensorrt/utils/py_utils.cc:38] TF-TRT Warning: Could not find TensorRT\n"
     ]
    }
   ],
   "source": [
    "from utils.downloader import *\n",
    "from utils.dataset_reader import *\n",
    "from utils.extractors import *\n",
    "from utils.augmentation import *\n",
    "import torch\n",
    "import torchvision\n",
    "import torch.nn as nn\n",
    "import os"
   ]
  },
  {
   "cell_type": "markdown",
   "metadata": {},
   "source": [
    "# TODO\n",
    "- Aggiungere nella pipeline di preparazione dei dati di pytorch la possibilità di fare da augmentation.\n",
    "- I logs sono salvati in datasets al momento\n"
   ]
  },
  {
   "cell_type": "markdown",
   "metadata": {},
   "source": [
    "# Notebook usage\n",
    "This notebook is used to streamline as much as possible the data setup for the project. We have trained models on data downloaded from the internet \n",
    "as well as present in the Torch and timm libraries. \n",
    "\n",
    "This notebook will help you set up the data in the correct directory structure.\n",
    "It will be used to download the data, extract it, and set it up in the correct directory structure.\n",
    "If you want to work using datasets preloaded in Torch or timm, you can skip this notebook.\n",
    "\n",
    "Everything that needs to be edited is marked with \"@edit\". It is procedural, therefore do not skip steps and go one cell at the time. \n",
    "\n",
    "At the moment less common cases such as image folder + .mat file or .csv file are not yet implemented in this notebook (csv function exists) or not implemented at all (.mat function doesn't exist at all)"
   ]
  },
  {
   "cell_type": "markdown",
   "metadata": {},
   "source": [
    "## Download Data from Kaggle"
   ]
  },
  {
   "cell_type": "code",
   "execution_count": 2,
   "metadata": {},
   "outputs": [
    {
     "name": "stdout",
     "output_type": "stream",
     "text": [
      "Dataset URL: https://www.kaggle.com/datasets/wenewone/cub2002011\n",
      "Kaggle Dataset downloaded successfully.\n"
     ]
    }
   ],
   "source": [
    "# manually edit the three following lines, save the dataset wherever you wish, but the \"datasets\" folder is recommended\n",
    "# make sure to use the absolute path, not relative\n",
    "# @edit\n",
    "#dataset_url = \"https://www.kaggle.com/datasets/prasanshasatpathy/soil-types\"\n",
    "dataset_url = \"https://www.kaggle.com/datasets/wenewone/cub2002011\"\n",
    "# @edit\n",
    "root = \"/home/disi/ml/datasets\"\n",
    "download_dataset_kaggle(dataset_url, root)\n",
    "# @edit extract zip\n",
    "#extract_tgz(f\"{dataset_url}/datasets.tar.gz\", root)"
   ]
  },
  {
   "cell_type": "markdown",
   "metadata": {},
   "source": [
    "# Download dataset from a url"
   ]
  },
  {
   "cell_type": "code",
   "execution_count": null,
   "metadata": {},
   "outputs": [],
   "source": [
    "# @edit\n",
    "dataset_url = \"https://www.robots.ox.ac.uk/~vgg/data/flowers/102/102flowers.tgz\"\n",
    "root = \"/home/disi/ml/datasets\"\n",
    "i = download_dataset(dataset_url, root)\n",
    "# Manually move it in the datasets folder if you do not need to unzip it, otherwhise extracting it with the following function\n",
    "# will do it for you\n",
    "# @edit\n",
    "extract_tgz(f\"{dataset_url}/datasets.tar.gz\", root)"
   ]
  },
  {
   "cell_type": "markdown",
   "metadata": {},
   "source": [
    "## Augment the dataset (optional)"
   ]
  },
  {
   "cell_type": "code",
   "execution_count": null,
   "metadata": {},
   "outputs": [],
   "source": [
    "# @edit\n",
    "# make sure to add a / in front of the folder name \n",
    "dataset_folder = root + \"/flowers\"\n",
    "image_generator =  setup_data_generator(rotation_range=40,\n",
    "                                        width_shift_range=0.2, \n",
    "                                        height_shift_range=0.2,\n",
    "                                        shear_range=0.2, \n",
    "                                        zoom_range=0.2, \n",
    "                                        horizontal_flip=True, \n",
    "                                        fill_mode='nearest')\n",
    "\n",
    "create_train_val_test_folders(dataset_folder, train_size=0.7, val_size=0.15, test_size=0.15)\n",
    "cleanup(dataset_folder)"
   ]
  },
  {
   "cell_type": "code",
   "execution_count": null,
   "metadata": {},
   "outputs": [],
   "source": [
    "directory_path  = dataset_folder + \"/train\"\n",
    "train_generator = load_data_from_directory(directory_path, target_size=(300,300), batch_size=32)\n",
    "n_of_batches = 50\n",
    "\n",
    "#TODO write how the number of batches infuences the actual amount of images generated"
   ]
  },
  {
   "cell_type": "code",
   "execution_count": null,
   "metadata": {},
   "outputs": [],
   "source": [
    "for i, (images, labels) in enumerate(train_generator):\n",
    "    if i >= n_of_batches:  # Stop after saving images from 50 batches\n",
    "        break\n",
    "    save_augmented_images(images, labels, directory_path, train_generator.class_indices)"
   ]
  },
  {
   "cell_type": "markdown",
   "metadata": {},
   "source": [
    "## Train-Test-Val-Split\n",
    "If you augmented the images you are good to go, the dataset is ready to be used in the main function. Otherwhise edit and execute the following block of code.\n"
   ]
  },
  {
   "cell_type": "code",
   "execution_count": 7,
   "metadata": {},
   "outputs": [],
   "source": [
    "# @edit\n",
    "# make sure to add a / in front of the folder name \n",
    "root = \"/home/disi/ml/datasets\"\n",
    "folder_target = f\"{root}/CUB_200_2011/images\"\n",
    "dataset_folder = folder_target #+ \"/jpg\""
   ]
  },
  {
   "cell_type": "code",
   "execution_count": 8,
   "metadata": {},
   "outputs": [
    {
     "ename": "ValueError",
     "evalue": "With n_samples=0, test_size=0.30000000000000004 and train_size=0.7, the resulting train set will be empty. Adjust any of the aforementioned parameters.",
     "output_type": "error",
     "traceback": [
      "\u001b[0;31m---------------------------------------------------------------------------\u001b[0m",
      "\u001b[0;31mValueError\u001b[0m                                Traceback (most recent call last)",
      "Cell \u001b[0;32mIn[8], line 1\u001b[0m\n\u001b[0;32m----> 1\u001b[0m \u001b[43mcreate_train_val_test_folders\u001b[49m\u001b[43m(\u001b[49m\u001b[43mdataset_folder\u001b[49m\u001b[43m,\u001b[49m\u001b[43m \u001b[49m\u001b[43mtrain_size\u001b[49m\u001b[38;5;241;43m=\u001b[39;49m\u001b[38;5;241;43m0.7\u001b[39;49m\u001b[43m,\u001b[49m\u001b[43m \u001b[49m\u001b[43mval_size\u001b[49m\u001b[38;5;241;43m=\u001b[39;49m\u001b[38;5;241;43m0.2\u001b[39;49m\u001b[43m,\u001b[49m\u001b[43m \u001b[49m\u001b[43mtest_size\u001b[49m\u001b[38;5;241;43m=\u001b[39;49m\u001b[38;5;241;43m0.1\u001b[39;49m\u001b[43m)\u001b[49m\n",
      "File \u001b[0;32m~/ml/intromlproject/utils/dataset_reader.py:167\u001b[0m, in \u001b[0;36mcreate_train_val_test_folders\u001b[0;34m(base_dir, train_size, val_size, test_size)\u001b[0m\n\u001b[1;32m    165\u001b[0m \u001b[38;5;28;01mfor\u001b[39;00m folder \u001b[38;5;129;01min\u001b[39;00m folders:\n\u001b[1;32m    166\u001b[0m     images \u001b[38;5;241m=\u001b[39m [os\u001b[38;5;241m.\u001b[39mpath\u001b[38;5;241m.\u001b[39mjoin(folder, f) \u001b[38;5;28;01mfor\u001b[39;00m f \u001b[38;5;129;01min\u001b[39;00m os\u001b[38;5;241m.\u001b[39mlistdir(folder) \u001b[38;5;28;01mif\u001b[39;00m os\u001b[38;5;241m.\u001b[39mpath\u001b[38;5;241m.\u001b[39misfile(os\u001b[38;5;241m.\u001b[39mpath\u001b[38;5;241m.\u001b[39mjoin(folder, f))]\n\u001b[0;32m--> 167\u001b[0m     train, temp \u001b[38;5;241m=\u001b[39m \u001b[43mtrain_test_split\u001b[49m\u001b[43m(\u001b[49m\u001b[43mimages\u001b[49m\u001b[43m,\u001b[49m\u001b[43m \u001b[49m\u001b[43mtrain_size\u001b[49m\u001b[38;5;241;43m=\u001b[39;49m\u001b[43mtrain_size\u001b[49m\u001b[43m,\u001b[49m\u001b[43m \u001b[49m\u001b[43mtest_size\u001b[49m\u001b[38;5;241;43m=\u001b[39;49m\u001b[43m(\u001b[49m\u001b[43mval_size\u001b[49m\u001b[38;5;241;43m+\u001b[39;49m\u001b[43mtest_size\u001b[49m\u001b[43m)\u001b[49m\u001b[43m,\u001b[49m\u001b[43m \u001b[49m\u001b[43mrandom_state\u001b[49m\u001b[38;5;241;43m=\u001b[39;49m\u001b[38;5;241;43m42\u001b[39;49m\u001b[43m)\u001b[49m\n\u001b[1;32m    168\u001b[0m     val, test \u001b[38;5;241m=\u001b[39m train_test_split(temp, train_size\u001b[38;5;241m=\u001b[39mval_size\u001b[38;5;241m/\u001b[39m(val_size \u001b[38;5;241m+\u001b[39m test_size), test_size\u001b[38;5;241m=\u001b[39mtest_size\u001b[38;5;241m/\u001b[39m(val_size \u001b[38;5;241m+\u001b[39m test_size), random_state\u001b[38;5;241m=\u001b[39m\u001b[38;5;241m42\u001b[39m)\n\u001b[1;32m    170\u001b[0m     \u001b[38;5;66;03m# Function to move files\u001b[39;00m\n",
      "File \u001b[0;32m~/ml/.venv/lib/python3.11/site-packages/sklearn/utils/_param_validation.py:213\u001b[0m, in \u001b[0;36mvalidate_params.<locals>.decorator.<locals>.wrapper\u001b[0;34m(*args, **kwargs)\u001b[0m\n\u001b[1;32m    207\u001b[0m \u001b[38;5;28;01mtry\u001b[39;00m:\n\u001b[1;32m    208\u001b[0m     \u001b[38;5;28;01mwith\u001b[39;00m config_context(\n\u001b[1;32m    209\u001b[0m         skip_parameter_validation\u001b[38;5;241m=\u001b[39m(\n\u001b[1;32m    210\u001b[0m             prefer_skip_nested_validation \u001b[38;5;129;01mor\u001b[39;00m global_skip_validation\n\u001b[1;32m    211\u001b[0m         )\n\u001b[1;32m    212\u001b[0m     ):\n\u001b[0;32m--> 213\u001b[0m         \u001b[38;5;28;01mreturn\u001b[39;00m \u001b[43mfunc\u001b[49m\u001b[43m(\u001b[49m\u001b[38;5;241;43m*\u001b[39;49m\u001b[43margs\u001b[49m\u001b[43m,\u001b[49m\u001b[43m \u001b[49m\u001b[38;5;241;43m*\u001b[39;49m\u001b[38;5;241;43m*\u001b[39;49m\u001b[43mkwargs\u001b[49m\u001b[43m)\u001b[49m\n\u001b[1;32m    214\u001b[0m \u001b[38;5;28;01mexcept\u001b[39;00m InvalidParameterError \u001b[38;5;28;01mas\u001b[39;00m e:\n\u001b[1;32m    215\u001b[0m     \u001b[38;5;66;03m# When the function is just a wrapper around an estimator, we allow\u001b[39;00m\n\u001b[1;32m    216\u001b[0m     \u001b[38;5;66;03m# the function to delegate validation to the estimator, but we replace\u001b[39;00m\n\u001b[1;32m    217\u001b[0m     \u001b[38;5;66;03m# the name of the estimator by the name of the function in the error\u001b[39;00m\n\u001b[1;32m    218\u001b[0m     \u001b[38;5;66;03m# message to avoid confusion.\u001b[39;00m\n\u001b[1;32m    219\u001b[0m     msg \u001b[38;5;241m=\u001b[39m re\u001b[38;5;241m.\u001b[39msub(\n\u001b[1;32m    220\u001b[0m         \u001b[38;5;124mr\u001b[39m\u001b[38;5;124m\"\u001b[39m\u001b[38;5;124mparameter of \u001b[39m\u001b[38;5;124m\\\u001b[39m\u001b[38;5;124mw+ must be\u001b[39m\u001b[38;5;124m\"\u001b[39m,\n\u001b[1;32m    221\u001b[0m         \u001b[38;5;124mf\u001b[39m\u001b[38;5;124m\"\u001b[39m\u001b[38;5;124mparameter of \u001b[39m\u001b[38;5;132;01m{\u001b[39;00mfunc\u001b[38;5;241m.\u001b[39m\u001b[38;5;18m__qualname__\u001b[39m\u001b[38;5;132;01m}\u001b[39;00m\u001b[38;5;124m must be\u001b[39m\u001b[38;5;124m\"\u001b[39m,\n\u001b[1;32m    222\u001b[0m         \u001b[38;5;28mstr\u001b[39m(e),\n\u001b[1;32m    223\u001b[0m     )\n",
      "File \u001b[0;32m~/ml/.venv/lib/python3.11/site-packages/sklearn/model_selection/_split.py:2660\u001b[0m, in \u001b[0;36mtrain_test_split\u001b[0;34m(test_size, train_size, random_state, shuffle, stratify, *arrays)\u001b[0m\n\u001b[1;32m   2657\u001b[0m arrays \u001b[38;5;241m=\u001b[39m indexable(\u001b[38;5;241m*\u001b[39marrays)\n\u001b[1;32m   2659\u001b[0m n_samples \u001b[38;5;241m=\u001b[39m _num_samples(arrays[\u001b[38;5;241m0\u001b[39m])\n\u001b[0;32m-> 2660\u001b[0m n_train, n_test \u001b[38;5;241m=\u001b[39m \u001b[43m_validate_shuffle_split\u001b[49m\u001b[43m(\u001b[49m\n\u001b[1;32m   2661\u001b[0m \u001b[43m    \u001b[49m\u001b[43mn_samples\u001b[49m\u001b[43m,\u001b[49m\u001b[43m \u001b[49m\u001b[43mtest_size\u001b[49m\u001b[43m,\u001b[49m\u001b[43m \u001b[49m\u001b[43mtrain_size\u001b[49m\u001b[43m,\u001b[49m\u001b[43m \u001b[49m\u001b[43mdefault_test_size\u001b[49m\u001b[38;5;241;43m=\u001b[39;49m\u001b[38;5;241;43m0.25\u001b[39;49m\n\u001b[1;32m   2662\u001b[0m \u001b[43m\u001b[49m\u001b[43m)\u001b[49m\n\u001b[1;32m   2664\u001b[0m \u001b[38;5;28;01mif\u001b[39;00m shuffle \u001b[38;5;129;01mis\u001b[39;00m \u001b[38;5;28;01mFalse\u001b[39;00m:\n\u001b[1;32m   2665\u001b[0m     \u001b[38;5;28;01mif\u001b[39;00m stratify \u001b[38;5;129;01mis\u001b[39;00m \u001b[38;5;129;01mnot\u001b[39;00m \u001b[38;5;28;01mNone\u001b[39;00m:\n",
      "File \u001b[0;32m~/ml/.venv/lib/python3.11/site-packages/sklearn/model_selection/_split.py:2308\u001b[0m, in \u001b[0;36m_validate_shuffle_split\u001b[0;34m(n_samples, test_size, train_size, default_test_size)\u001b[0m\n\u001b[1;32m   2305\u001b[0m n_train, n_test \u001b[38;5;241m=\u001b[39m \u001b[38;5;28mint\u001b[39m(n_train), \u001b[38;5;28mint\u001b[39m(n_test)\n\u001b[1;32m   2307\u001b[0m \u001b[38;5;28;01mif\u001b[39;00m n_train \u001b[38;5;241m==\u001b[39m \u001b[38;5;241m0\u001b[39m:\n\u001b[0;32m-> 2308\u001b[0m     \u001b[38;5;28;01mraise\u001b[39;00m \u001b[38;5;167;01mValueError\u001b[39;00m(\n\u001b[1;32m   2309\u001b[0m         \u001b[38;5;124m\"\u001b[39m\u001b[38;5;124mWith n_samples=\u001b[39m\u001b[38;5;132;01m{}\u001b[39;00m\u001b[38;5;124m, test_size=\u001b[39m\u001b[38;5;132;01m{}\u001b[39;00m\u001b[38;5;124m and train_size=\u001b[39m\u001b[38;5;132;01m{}\u001b[39;00m\u001b[38;5;124m, the \u001b[39m\u001b[38;5;124m\"\u001b[39m\n\u001b[1;32m   2310\u001b[0m         \u001b[38;5;124m\"\u001b[39m\u001b[38;5;124mresulting train set will be empty. Adjust any of the \u001b[39m\u001b[38;5;124m\"\u001b[39m\n\u001b[1;32m   2311\u001b[0m         \u001b[38;5;124m\"\u001b[39m\u001b[38;5;124maforementioned parameters.\u001b[39m\u001b[38;5;124m\"\u001b[39m\u001b[38;5;241m.\u001b[39mformat(n_samples, test_size, train_size)\n\u001b[1;32m   2312\u001b[0m     )\n\u001b[1;32m   2314\u001b[0m \u001b[38;5;28;01mreturn\u001b[39;00m n_train, n_test\n",
      "\u001b[0;31mValueError\u001b[0m: With n_samples=0, test_size=0.30000000000000004 and train_size=0.7, the resulting train set will be empty. Adjust any of the aforementioned parameters."
     ]
    }
   ],
   "source": [
    "create_train_val_test_folders(dataset_folder, train_size=0.7, val_size=0.15, test_size=0.15)"
   ]
  },
  {
   "cell_type": "markdown",
   "metadata": {},
   "source": [
    "# Datasets from Pytorch"
   ]
  },
  {
   "cell_type": "markdown",
   "metadata": {},
   "source": [
    "## FGVCAircraft"
   ]
  },
  {
   "cell_type": "code",
   "execution_count": 3,
   "metadata": {},
   "outputs": [
    {
     "name": "stdout",
     "output_type": "stream",
     "text": [
      "Downloading https://www.robots.ox.ac.uk/~vgg/data/fgvc-aircraft/archives/fgvc-aircraft-2013b.tar.gz to /home/disi/ml/datasets/fgvc-aircraft-2013b.tar.gz\n"
     ]
    },
    {
     "name": "stderr",
     "output_type": "stream",
     "text": [
      "100%|██████████| 2753340328/2753340328 [00:26<00:00, 103919480.40it/s]\n"
     ]
    },
    {
     "name": "stdout",
     "output_type": "stream",
     "text": [
      "Extracting /home/disi/ml/datasets/fgvc-aircraft-2013b.tar.gz to /home/disi/ml/datasets/\n"
     ]
    }
   ],
   "source": [
    "# @edit\n",
    "root = \"/home/disi/ml/datasets/\"\n",
    "dataset = torchvision.datasets.FGVCAircraft(root=root, download = True)"
   ]
  },
  {
   "cell_type": "code",
   "execution_count": 4,
   "metadata": {},
   "outputs": [],
   "source": [
    "# @edit\n",
    "dataset_path = f'{root}/fgvc-aircraft-2013b/data/images'\n",
    "new_dataset_path = f'{root}'\n",
    "train_txt_path = f'{root}/fgvc-aircraft-2013b/data/images_family_train.txt'\n",
    "val_txt_path = f'{root}/fgvc-aircraft-2013b/data/images_family_val.txt'\n",
    "test_txt_path = f'{root}/fgvc-aircraft-2013b/data/images_family_test.txt'"
   ]
  },
  {
   "cell_type": "code",
   "execution_count": 5,
   "metadata": {},
   "outputs": [],
   "source": [
    "reorganize_dataset_txt(dataset_path, train_txt_path, new_dataset_path, 'train')\n",
    "reorganize_dataset_txt(dataset_path, val_txt_path, new_dataset_path, 'val')\n",
    "reorganize_dataset_txt(dataset_path, test_txt_path, new_dataset_path, 'test')"
   ]
  },
  {
   "cell_type": "code",
   "execution_count": 10,
   "metadata": {},
   "outputs": [
    {
     "name": "stdout",
     "output_type": "stream",
     "text": [
      "Deleted folder: /home/disi/ml/datasets/CUB_200_2011/images/149.Brown_Thrasher\n",
      "Deleted folder: /home/disi/ml/datasets/CUB_200_2011/images/064.Ring_billed_Gull\n",
      "Deleted folder: /home/disi/ml/datasets/CUB_200_2011/images/081.Pied_Kingfisher\n",
      "Deleted folder: /home/disi/ml/datasets/CUB_200_2011/images/156.White_eyed_Vireo\n",
      "Deleted folder: /home/disi/ml/datasets/CUB_200_2011/images/187.American_Three_toed_Woodpecker\n",
      "Deleted folder: /home/disi/ml/datasets/CUB_200_2011/images/104.American_Pipit\n",
      "Deleted folder: /home/disi/ml/datasets/CUB_200_2011/images/142.Black_Tern\n",
      "Deleted folder: /home/disi/ml/datasets/CUB_200_2011/images/050.Eared_Grebe\n",
      "Deleted folder: /home/disi/ml/datasets/CUB_200_2011/images/034.Gray_crowned_Rosy_Finch\n",
      "Deleted folder: /home/disi/ml/datasets/CUB_200_2011/images/052.Pied_billed_Grebe\n",
      "Deleted folder: /home/disi/ml/datasets/CUB_200_2011/images/132.White_crowned_Sparrow\n",
      "Deleted folder: /home/disi/ml/datasets/CUB_200_2011/images/089.Hooded_Merganser\n",
      "Deleted folder: /home/disi/ml/datasets/CUB_200_2011/images/004.Groove_billed_Ani\n",
      "Deleted folder: /home/disi/ml/datasets/CUB_200_2011/images/080.Green_Kingfisher\n",
      "Deleted folder: /home/disi/ml/datasets/CUB_200_2011/images/096.Hooded_Oriole\n",
      "Deleted folder: /home/disi/ml/datasets/CUB_200_2011/images/172.Nashville_Warbler\n",
      "Deleted folder: /home/disi/ml/datasets/CUB_200_2011/images/060.Glaucous_winged_Gull\n",
      "Deleted folder: /home/disi/ml/datasets/CUB_200_2011/images/180.Wilson_Warbler\n",
      "Deleted folder: /home/disi/ml/datasets/CUB_200_2011/images/098.Scott_Oriole\n",
      "Deleted folder: /home/disi/ml/datasets/CUB_200_2011/images/040.Olive_sided_Flycatcher\n",
      "Deleted folder: /home/disi/ml/datasets/CUB_200_2011/images/027.Shiny_Cowbird\n",
      "Deleted folder: /home/disi/ml/datasets/CUB_200_2011/images/146.Forsters_Tern\n",
      "Deleted folder: /home/disi/ml/datasets/CUB_200_2011/images/054.Blue_Grosbeak\n",
      "Deleted folder: /home/disi/ml/datasets/CUB_200_2011/images/109.American_Redstart\n",
      "Deleted folder: /home/disi/ml/datasets/CUB_200_2011/images/013.Bobolink\n",
      "Deleted folder: /home/disi/ml/datasets/CUB_200_2011/images/076.Dark_eyed_Junco\n",
      "Deleted folder: /home/disi/ml/datasets/CUB_200_2011/images/055.Evening_Grosbeak\n",
      "Deleted folder: /home/disi/ml/datasets/CUB_200_2011/images/046.Gadwall\n",
      "Deleted folder: /home/disi/ml/datasets/CUB_200_2011/images/158.Bay_breasted_Warbler\n",
      "Deleted folder: /home/disi/ml/datasets/CUB_200_2011/images/174.Palm_Warbler\n",
      "Deleted folder: /home/disi/ml/datasets/CUB_200_2011/images/134.Cape_Glossy_Starling\n",
      "Deleted folder: /home/disi/ml/datasets/CUB_200_2011/images/151.Black_capped_Vireo\n",
      "Deleted folder: /home/disi/ml/datasets/CUB_200_2011/images/103.Sayornis\n",
      "Deleted folder: /home/disi/ml/datasets/CUB_200_2011/images/041.Scissor_tailed_Flycatcher\n",
      "Deleted folder: /home/disi/ml/datasets/CUB_200_2011/images/136.Barn_Swallow\n",
      "Deleted folder: /home/disi/ml/datasets/CUB_200_2011/images/083.White_breasted_Kingfisher\n",
      "Deleted folder: /home/disi/ml/datasets/CUB_200_2011/images/179.Tennessee_Warbler\n",
      "Deleted folder: /home/disi/ml/datasets/CUB_200_2011/images/078.Gray_Kingbird\n",
      "Deleted folder: /home/disi/ml/datasets/CUB_200_2011/images/062.Herring_Gull\n",
      "Deleted folder: /home/disi/ml/datasets/CUB_200_2011/images/126.Nelson_Sharp_tailed_Sparrow\n",
      "Deleted folder: /home/disi/ml/datasets/CUB_200_2011/images/020.Yellow_breasted_Chat\n",
      "Deleted folder: /home/disi/ml/datasets/CUB_200_2011/images/093.Clark_Nutcracker\n",
      "Deleted folder: /home/disi/ml/datasets/CUB_200_2011/images/094.White_breasted_Nuthatch\n",
      "Deleted folder: /home/disi/ml/datasets/CUB_200_2011/images/144.Common_Tern\n",
      "Deleted folder: /home/disi/ml/datasets/CUB_200_2011/images/018.Spotted_Catbird\n",
      "Deleted folder: /home/disi/ml/datasets/CUB_200_2011/images/195.Carolina_Wren\n",
      "Deleted folder: /home/disi/ml/datasets/CUB_200_2011/images/077.Tropical_Kingbird\n",
      "Deleted folder: /home/disi/ml/datasets/CUB_200_2011/images/130.Tree_Sparrow\n",
      "Deleted folder: /home/disi/ml/datasets/CUB_200_2011/images/074.Florida_Jay\n",
      "Deleted folder: /home/disi/ml/datasets/CUB_200_2011/images/165.Chestnut_sided_Warbler\n",
      "Deleted folder: /home/disi/ml/datasets/CUB_200_2011/images/121.Grasshopper_Sparrow\n",
      "Deleted folder: /home/disi/ml/datasets/CUB_200_2011/images/010.Red_winged_Blackbird\n",
      "Deleted folder: /home/disi/ml/datasets/CUB_200_2011/images/019.Gray_Catbird\n",
      "Deleted folder: /home/disi/ml/datasets/CUB_200_2011/images/170.Mourning_Warbler\n",
      "Deleted folder: /home/disi/ml/datasets/CUB_200_2011/images/196.House_Wren\n",
      "Deleted folder: /home/disi/ml/datasets/CUB_200_2011/images/042.Vermilion_Flycatcher\n",
      "Deleted folder: /home/disi/ml/datasets/CUB_200_2011/images/135.Bank_Swallow\n",
      "Deleted folder: /home/disi/ml/datasets/CUB_200_2011/images/038.Great_Crested_Flycatcher\n",
      "Deleted folder: /home/disi/ml/datasets/CUB_200_2011/images/002.Laysan_Albatross\n",
      "Deleted folder: /home/disi/ml/datasets/CUB_200_2011/images/143.Caspian_Tern\n",
      "Deleted folder: /home/disi/ml/datasets/CUB_200_2011/images/084.Red_legged_Kittiwake\n",
      "Deleted folder: /home/disi/ml/datasets/CUB_200_2011/images/048.European_Goldfinch\n",
      "Deleted folder: /home/disi/ml/datasets/CUB_200_2011/images/047.American_Goldfinch\n",
      "Deleted folder: /home/disi/ml/datasets/CUB_200_2011/images/008.Rhinoceros_Auklet\n",
      "Deleted folder: /home/disi/ml/datasets/CUB_200_2011/images/015.Lazuli_Bunting\n",
      "Deleted folder: /home/disi/ml/datasets/CUB_200_2011/images/147.Least_Tern\n",
      "Deleted folder: /home/disi/ml/datasets/CUB_200_2011/images/107.Common_Raven\n",
      "Deleted folder: /home/disi/ml/datasets/CUB_200_2011/images/145.Elegant_Tern\n",
      "Deleted folder: /home/disi/ml/datasets/CUB_200_2011/images/045.Northern_Fulmar\n",
      "Deleted folder: /home/disi/ml/datasets/CUB_200_2011/images/177.Prothonotary_Warbler\n",
      "Deleted folder: /home/disi/ml/datasets/CUB_200_2011/images/001.Black_footed_Albatross\n",
      "Skipped folder: /home/disi/ml/datasets/CUB_200_2011/images/val\n",
      "Deleted folder: /home/disi/ml/datasets/CUB_200_2011/images/169.Magnolia_Warbler\n",
      "Deleted folder: /home/disi/ml/datasets/CUB_200_2011/images/137.Cliff_Swallow\n",
      "Deleted folder: /home/disi/ml/datasets/CUB_200_2011/images/189.Red_bellied_Woodpecker\n",
      "Deleted folder: /home/disi/ml/datasets/CUB_200_2011/images/157.Yellow_throated_Vireo\n",
      "Deleted folder: /home/disi/ml/datasets/CUB_200_2011/images/192.Downy_Woodpecker\n",
      "Deleted folder: /home/disi/ml/datasets/CUB_200_2011/images/053.Western_Grebe\n",
      "Deleted folder: /home/disi/ml/datasets/CUB_200_2011/images/032.Mangrove_Cuckoo\n",
      "Deleted folder: /home/disi/ml/datasets/CUB_200_2011/images/028.Brown_Creeper\n",
      "Deleted folder: /home/disi/ml/datasets/CUB_200_2011/images/033.Yellow_billed_Cuckoo\n",
      "Deleted folder: /home/disi/ml/datasets/CUB_200_2011/images/099.Ovenbird\n",
      "Deleted folder: /home/disi/ml/datasets/CUB_200_2011/images/190.Red_cockaded_Woodpecker\n",
      "Deleted folder: /home/disi/ml/datasets/CUB_200_2011/images/194.Cactus_Wren\n",
      "Deleted folder: /home/disi/ml/datasets/CUB_200_2011/images/184.Louisiana_Waterthrush\n",
      "Deleted folder: /home/disi/ml/datasets/CUB_200_2011/images/058.Pigeon_Guillemot\n",
      "Deleted folder: /home/disi/ml/datasets/CUB_200_2011/images/155.Warbling_Vireo\n",
      "Deleted folder: /home/disi/ml/datasets/CUB_200_2011/images/066.Western_Gull\n",
      "Deleted folder: /home/disi/ml/datasets/CUB_200_2011/images/044.Frigatebird\n",
      "Deleted folder: /home/disi/ml/datasets/CUB_200_2011/images/166.Golden_winged_Warbler\n",
      "Deleted folder: /home/disi/ml/datasets/CUB_200_2011/images/007.Parakeet_Auklet\n",
      "Deleted folder: /home/disi/ml/datasets/CUB_200_2011/images/115.Brewer_Sparrow\n",
      "Deleted folder: /home/disi/ml/datasets/CUB_200_2011/images/125.Lincoln_Sparrow\n",
      "Deleted folder: /home/disi/ml/datasets/CUB_200_2011/images/141.Artic_Tern\n",
      "Deleted folder: /home/disi/ml/datasets/CUB_200_2011/images/124.Le_Conte_Sparrow\n",
      "Deleted folder: /home/disi/ml/datasets/CUB_200_2011/images/197.Marsh_Wren\n",
      "Deleted folder: /home/disi/ml/datasets/CUB_200_2011/images/127.Savannah_Sparrow\n",
      "Deleted folder: /home/disi/ml/datasets/CUB_200_2011/images/061.Heermann_Gull\n",
      "Deleted folder: /home/disi/ml/datasets/CUB_200_2011/images/003.Sooty_Albatross\n",
      "Deleted folder: /home/disi/ml/datasets/CUB_200_2011/images/110.Geococcyx\n",
      "Deleted folder: /home/disi/ml/datasets/CUB_200_2011/images/163.Cape_May_Warbler\n",
      "Deleted folder: /home/disi/ml/datasets/CUB_200_2011/images/036.Northern_Flicker\n",
      "Skipped folder: /home/disi/ml/datasets/CUB_200_2011/images/train\n",
      "Deleted folder: /home/disi/ml/datasets/CUB_200_2011/images/072.Pomarine_Jaeger\n",
      "Deleted folder: /home/disi/ml/datasets/CUB_200_2011/images/160.Black_throated_Blue_Warbler\n",
      "Deleted folder: /home/disi/ml/datasets/CUB_200_2011/images/056.Pine_Grosbeak\n",
      "Deleted folder: /home/disi/ml/datasets/CUB_200_2011/images/069.Rufous_Hummingbird\n",
      "Deleted folder: /home/disi/ml/datasets/CUB_200_2011/images/102.Western_Wood_Pewee\n",
      "Deleted folder: /home/disi/ml/datasets/CUB_200_2011/images/005.Crested_Auklet\n",
      "Deleted folder: /home/disi/ml/datasets/CUB_200_2011/images/092.Nighthawk\n",
      "Deleted folder: /home/disi/ml/datasets/CUB_200_2011/images/139.Scarlet_Tanager\n",
      "Deleted folder: /home/disi/ml/datasets/CUB_200_2011/images/140.Summer_Tanager\n",
      "Deleted folder: /home/disi/ml/datasets/CUB_200_2011/images/037.Acadian_Flycatcher\n",
      "Deleted folder: /home/disi/ml/datasets/CUB_200_2011/images/128.Seaside_Sparrow\n",
      "Deleted folder: /home/disi/ml/datasets/CUB_200_2011/images/119.Field_Sparrow\n",
      "Deleted folder: /home/disi/ml/datasets/CUB_200_2011/images/117.Clay_colored_Sparrow\n",
      "Deleted folder: /home/disi/ml/datasets/CUB_200_2011/images/176.Prairie_Warbler\n",
      "Deleted folder: /home/disi/ml/datasets/CUB_200_2011/images/091.Mockingbird\n",
      "Deleted folder: /home/disi/ml/datasets/CUB_200_2011/images/105.Whip_poor_Will\n",
      "Deleted folder: /home/disi/ml/datasets/CUB_200_2011/images/088.Western_Meadowlark\n",
      "Deleted folder: /home/disi/ml/datasets/CUB_200_2011/images/024.Red_faced_Cormorant\n",
      "Deleted folder: /home/disi/ml/datasets/CUB_200_2011/images/150.Sage_Thrasher\n",
      "Deleted folder: /home/disi/ml/datasets/CUB_200_2011/images/161.Blue_winged_Warbler\n",
      "Deleted folder: /home/disi/ml/datasets/CUB_200_2011/images/059.California_Gull\n",
      "Deleted folder: /home/disi/ml/datasets/CUB_200_2011/images/039.Least_Flycatcher\n",
      "Deleted folder: /home/disi/ml/datasets/CUB_200_2011/images/025.Pelagic_Cormorant\n",
      "Deleted folder: /home/disi/ml/datasets/CUB_200_2011/images/199.Winter_Wren\n",
      "Deleted folder: /home/disi/ml/datasets/CUB_200_2011/images/148.Green_tailed_Towhee\n",
      "Deleted folder: /home/disi/ml/datasets/CUB_200_2011/images/178.Swainson_Warbler\n",
      "Deleted folder: /home/disi/ml/datasets/CUB_200_2011/images/111.Loggerhead_Shrike\n",
      "Deleted folder: /home/disi/ml/datasets/CUB_200_2011/images/154.Red_eyed_Vireo\n",
      "Deleted folder: /home/disi/ml/datasets/CUB_200_2011/images/188.Pileated_Woodpecker\n",
      "Deleted folder: /home/disi/ml/datasets/CUB_200_2011/images/022.Chuck_will_Widow\n",
      "Deleted folder: /home/disi/ml/datasets/CUB_200_2011/images/057.Rose_breasted_Grosbeak\n",
      "Deleted folder: /home/disi/ml/datasets/CUB_200_2011/images/051.Horned_Grebe\n",
      "Deleted folder: /home/disi/ml/datasets/CUB_200_2011/images/118.House_Sparrow\n",
      "Deleted folder: /home/disi/ml/datasets/CUB_200_2011/images/065.Slaty_backed_Gull\n",
      "Deleted folder: /home/disi/ml/datasets/CUB_200_2011/images/049.Boat_tailed_Grackle\n",
      "Deleted folder: /home/disi/ml/datasets/CUB_200_2011/images/114.Black_throated_Sparrow\n",
      "Deleted folder: /home/disi/ml/datasets/CUB_200_2011/images/017.Cardinal\n",
      "Deleted folder: /home/disi/ml/datasets/CUB_200_2011/images/097.Orchard_Oriole\n",
      "Deleted folder: /home/disi/ml/datasets/CUB_200_2011/images/030.Fish_Crow\n",
      "Deleted folder: /home/disi/ml/datasets/CUB_200_2011/images/159.Black_and_white_Warbler\n",
      "Deleted folder: /home/disi/ml/datasets/CUB_200_2011/images/171.Myrtle_Warbler\n",
      "Deleted folder: /home/disi/ml/datasets/CUB_200_2011/images/108.White_necked_Raven\n",
      "Deleted folder: /home/disi/ml/datasets/CUB_200_2011/images/085.Horned_Lark\n",
      "Deleted folder: /home/disi/ml/datasets/CUB_200_2011/images/100.Brown_Pelican\n",
      "Deleted folder: /home/disi/ml/datasets/CUB_200_2011/images/175.Pine_Warbler\n",
      "Deleted folder: /home/disi/ml/datasets/CUB_200_2011/images/106.Horned_Puffin\n",
      "Deleted folder: /home/disi/ml/datasets/CUB_200_2011/images/067.Anna_Hummingbird\n",
      "Deleted folder: /home/disi/ml/datasets/CUB_200_2011/images/193.Bewick_Wren\n",
      "Deleted folder: /home/disi/ml/datasets/CUB_200_2011/images/087.Mallard\n",
      "Deleted folder: /home/disi/ml/datasets/CUB_200_2011/images/035.Purple_Finch\n",
      "Deleted folder: /home/disi/ml/datasets/CUB_200_2011/images/173.Orange_crowned_Warbler\n",
      "Deleted folder: /home/disi/ml/datasets/CUB_200_2011/images/101.White_Pelican\n",
      "Deleted folder: /home/disi/ml/datasets/CUB_200_2011/images/012.Yellow_headed_Blackbird\n",
      "Deleted folder: /home/disi/ml/datasets/CUB_200_2011/images/129.Song_Sparrow\n",
      "Deleted folder: /home/disi/ml/datasets/CUB_200_2011/images/079.Belted_Kingfisher\n",
      "Deleted folder: /home/disi/ml/datasets/CUB_200_2011/images/073.Blue_Jay\n",
      "Deleted folder: /home/disi/ml/datasets/CUB_200_2011/images/016.Painted_Bunting\n",
      "Deleted folder: /home/disi/ml/datasets/CUB_200_2011/images/023.Brandt_Cormorant\n",
      "Deleted folder: /home/disi/ml/datasets/CUB_200_2011/images/014.Indigo_Bunting\n",
      "Deleted folder: /home/disi/ml/datasets/CUB_200_2011/images/011.Rusty_Blackbird\n",
      "Deleted folder: /home/disi/ml/datasets/CUB_200_2011/images/200.Common_Yellowthroat\n",
      "Deleted folder: /home/disi/ml/datasets/CUB_200_2011/images/152.Blue_headed_Vireo\n",
      "Deleted folder: /home/disi/ml/datasets/CUB_200_2011/images/021.Eastern_Towhee\n",
      "Deleted folder: /home/disi/ml/datasets/CUB_200_2011/images/026.Bronzed_Cowbird\n",
      "Deleted folder: /home/disi/ml/datasets/CUB_200_2011/images/164.Cerulean_Warbler\n",
      "Deleted folder: /home/disi/ml/datasets/CUB_200_2011/images/120.Fox_Sparrow\n",
      "Deleted folder: /home/disi/ml/datasets/CUB_200_2011/images/116.Chipping_Sparrow\n",
      "Deleted folder: /home/disi/ml/datasets/CUB_200_2011/images/086.Pacific_Loon\n",
      "Deleted folder: /home/disi/ml/datasets/CUB_200_2011/images/122.Harris_Sparrow\n",
      "Deleted folder: /home/disi/ml/datasets/CUB_200_2011/images/191.Red_headed_Woodpecker\n",
      "Deleted folder: /home/disi/ml/datasets/CUB_200_2011/images/153.Philadelphia_Vireo\n",
      "Deleted folder: /home/disi/ml/datasets/CUB_200_2011/images/185.Bohemian_Waxwing\n",
      "Skipped folder: /home/disi/ml/datasets/CUB_200_2011/images/test\n",
      "Deleted folder: /home/disi/ml/datasets/CUB_200_2011/images/181.Worm_eating_Warbler\n",
      "Deleted folder: /home/disi/ml/datasets/CUB_200_2011/images/082.Ringed_Kingfisher\n",
      "Deleted folder: /home/disi/ml/datasets/CUB_200_2011/images/182.Yellow_Warbler\n",
      "Deleted folder: /home/disi/ml/datasets/CUB_200_2011/images/095.Baltimore_Oriole\n",
      "Deleted folder: /home/disi/ml/datasets/CUB_200_2011/images/186.Cedar_Waxwing\n",
      "Deleted folder: /home/disi/ml/datasets/CUB_200_2011/images/113.Baird_Sparrow\n",
      "Deleted folder: /home/disi/ml/datasets/CUB_200_2011/images/112.Great_Grey_Shrike\n",
      "Deleted folder: /home/disi/ml/datasets/CUB_200_2011/images/167.Hooded_Warbler\n",
      "Deleted folder: /home/disi/ml/datasets/CUB_200_2011/images/183.Northern_Waterthrush\n",
      "Deleted folder: /home/disi/ml/datasets/CUB_200_2011/images/131.Vesper_Sparrow\n",
      "Deleted folder: /home/disi/ml/datasets/CUB_200_2011/images/031.Black_billed_Cuckoo\n",
      "Deleted folder: /home/disi/ml/datasets/CUB_200_2011/images/006.Least_Auklet\n",
      "Deleted folder: /home/disi/ml/datasets/CUB_200_2011/images/029.American_Crow\n",
      "Deleted folder: /home/disi/ml/datasets/CUB_200_2011/images/133.White_throated_Sparrow\n",
      "Deleted folder: /home/disi/ml/datasets/CUB_200_2011/images/009.Brewer_Blackbird\n",
      "Deleted folder: /home/disi/ml/datasets/CUB_200_2011/images/168.Kentucky_Warbler\n",
      "Deleted folder: /home/disi/ml/datasets/CUB_200_2011/images/162.Canada_Warbler\n",
      "Deleted folder: /home/disi/ml/datasets/CUB_200_2011/images/198.Rock_Wren\n",
      "Deleted folder: /home/disi/ml/datasets/CUB_200_2011/images/090.Red_breasted_Merganser\n",
      "Deleted folder: /home/disi/ml/datasets/CUB_200_2011/images/043.Yellow_bellied_Flycatcher\n",
      "Deleted folder: /home/disi/ml/datasets/CUB_200_2011/images/071.Long_tailed_Jaeger\n",
      "Deleted folder: /home/disi/ml/datasets/CUB_200_2011/images/070.Green_Violetear\n",
      "Deleted folder: /home/disi/ml/datasets/CUB_200_2011/images/138.Tree_Swallow\n",
      "Deleted folder: /home/disi/ml/datasets/CUB_200_2011/images/075.Green_Jay\n",
      "Deleted folder: /home/disi/ml/datasets/CUB_200_2011/images/063.Ivory_Gull\n",
      "Deleted folder: /home/disi/ml/datasets/CUB_200_2011/images/068.Ruby_throated_Hummingbird\n",
      "Deleted folder: /home/disi/ml/datasets/CUB_200_2011/images/123.Henslow_Sparrow\n"
     ]
    }
   ],
   "source": [
    "# @edit\n",
    "cleanup(f'{root}')"
   ]
  },
  {
   "cell_type": "markdown",
   "metadata": {},
   "source": [
    "## Flowers102 / Oxford Flowers"
   ]
  },
  {
   "cell_type": "code",
   "execution_count": 8,
   "metadata": {},
   "outputs": [
    {
     "name": "stdout",
     "output_type": "stream",
     "text": [
      "Downloading https://thor.robots.ox.ac.uk/datasets/flowers-102/102flowers.tgz to /home/disi/ml/datasets/flowers-102/102flowers.tgz\n"
     ]
    },
    {
     "name": "stderr",
     "output_type": "stream",
     "text": [
      "100%|██████████| 344862509/344862509 [00:01<00:00, 260280841.69it/s]\n"
     ]
    },
    {
     "name": "stdout",
     "output_type": "stream",
     "text": [
      "Extracting /home/disi/ml/datasets/flowers-102/102flowers.tgz to /home/disi/ml/datasets/flowers-102\n",
      "Downloading https://thor.robots.ox.ac.uk/datasets/flowers-102/imagelabels.mat to /home/disi/ml/datasets/flowers-102/imagelabels.mat\n"
     ]
    },
    {
     "name": "stderr",
     "output_type": "stream",
     "text": [
      "100%|██████████| 502/502 [00:00<00:00, 488071.54it/s]\n"
     ]
    },
    {
     "name": "stdout",
     "output_type": "stream",
     "text": [
      "Downloading https://thor.robots.ox.ac.uk/datasets/flowers-102/setid.mat to /home/disi/ml/datasets/flowers-102/setid.mat\n"
     ]
    },
    {
     "name": "stderr",
     "output_type": "stream",
     "text": [
      "100%|██████████| 14989/14989 [00:00<00:00, 21089709.04it/s]\n"
     ]
    }
   ],
   "source": [
    "# @edit\n",
    "root = \"/home/disi/ml/datasets/\"\n",
    "dataset = torchvision.datasets.Flowers102(root=root, download = True)\n"
   ]
  },
  {
   "cell_type": "code",
   "execution_count": 10,
   "metadata": {},
   "outputs": [],
   "source": [
    "# Paths to your original dataset, .mat file, and new dataset location\n",
    "# @edit\n",
    "dataset_path = f'{root}/flowers-102/jpg'\n",
    "mat_path = f'{root}/flowers-102/imagelabels.mat'\n",
    "new_dataset_path = f'{root}'"
   ]
  },
  {
   "cell_type": "code",
   "execution_count": 11,
   "metadata": {},
   "outputs": [],
   "source": [
    "# Call the function for each of your train, validation, and test sets\n",
    "reorganize_dataset_mat(dataset_path, mat_path, new_dataset_path, 'train')\n",
    "reorganize_dataset_mat(dataset_path, mat_path, new_dataset_path, 'val')\n",
    "reorganize_dataset_mat(dataset_path, mat_path, new_dataset_path, 'test')"
   ]
  },
  {
   "cell_type": "code",
   "execution_count": 12,
   "metadata": {},
   "outputs": [
    {
     "name": "stdout",
     "output_type": "stream",
     "text": [
      "Skipped folder: /home/disi/ml/datasets/val\n",
      "Deleted folder: /home/disi/ml/datasets/flowers-102\n",
      "Skipped folder: /home/disi/ml/datasets/train\n",
      "Skipped folder: /home/disi/ml/datasets/test\n"
     ]
    }
   ],
   "source": [
    "# @edit\n",
    "cleanup(root)"
   ]
  },
  {
   "cell_type": "markdown",
   "metadata": {},
   "source": [
    "# Last step\n",
    "Once you reach the train-test-val configuration, run this final function to create a folder named as you wish that will contain train-test-val. This will be our root in the main.py. "
   ]
  },
  {
   "cell_type": "code",
   "execution_count": 15,
   "metadata": {},
   "outputs": [],
   "source": [
    "# @edit\n",
    "location = root\n",
    "newfolder_name = 'Flowers102'\n",
    "train_folder = f'{location}/train/'\n",
    "val_folder = f'{location}/val/'\n",
    "test_folder = f'{location}/test/'\n",
    "final_structure(location, newfolder_name, train_folder, val_folder, test_folder)"
   ]
  },
  {
   "cell_type": "code",
   "execution_count": null,
   "metadata": {},
   "outputs": [],
   "source": []
  },
  {
   "cell_type": "code",
   "execution_count": null,
   "metadata": {},
   "outputs": [],
   "source": [
    "import os"
   ]
  },
  {
   "cell_type": "code",
   "execution_count": null,
   "metadata": {},
   "outputs": [],
   "source": [
    "img_root = '/home/lorenzo/Desktop/qui/intromlproject_su cui lavorare/datasets/Flowers102'\n",
    "path = os.path.dirname(img_root) + \"/\""
   ]
  },
  {
   "cell_type": "code",
   "execution_count": null,
   "metadata": {},
   "outputs": [],
   "source": [
    "print(img_root)"
   ]
  },
  {
   "cell_type": "code",
   "execution_count": null,
   "metadata": {},
   "outputs": [],
   "source": [
    "folder = os.path.basename(img_root)\n",
    "print(path)"
   ]
  },
  {
   "cell_type": "code",
   "execution_count": null,
   "metadata": {},
   "outputs": [],
   "source": [
    "\n",
    "# Define the root path\n",
    "img_root = '/home/disi/ml/intromlproject/datasets/Aerei'\n",
    "\n",
    "# Standardize the path\n",
    "standardized_path = os.path.normpath(img_root)\n",
    "\n",
    "# Split the path into directory and the last component\n",
    "path, folder = os.path.split(standardized_path)\n",
    "\n",
    "# Print the results\n",
    "print(\"Path:\", path)\n",
    "print(\"Folder:\", folder)"
   ]
  },
  {
   "cell_type": "code",
   "execution_count": null,
   "metadata": {},
   "outputs": [],
   "source": []
  }
 ],
 "metadata": {
  "kernelspec": {
   "display_name": ".venv",
   "language": "python",
   "name": "python3"
  },
  "language_info": {
   "codemirror_mode": {
    "name": "ipython",
    "version": 3
   },
   "file_extension": ".py",
   "mimetype": "text/x-python",
   "name": "python",
   "nbconvert_exporter": "python",
   "pygments_lexer": "ipython3",
   "version": "3.11.8"
  }
 },
 "nbformat": 4,
 "nbformat_minor": 2
}
