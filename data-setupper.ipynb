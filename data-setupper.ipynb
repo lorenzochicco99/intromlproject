{
 "cells": [
  {
   "cell_type": "code",
   "execution_count": 1,
   "metadata": {},
   "outputs": [
    {
     "name": "stderr",
     "output_type": "stream",
     "text": [
      "2024-05-27 08:46:09.835673: I tensorflow/core/platform/cpu_feature_guard.cc:210] This TensorFlow binary is optimized to use available CPU instructions in performance-critical operations.\n",
      "To enable the following instructions: AVX2 FMA, in other operations, rebuild TensorFlow with the appropriate compiler flags.\n",
      "2024-05-27 08:46:10.532910: W tensorflow/compiler/tf2tensorrt/utils/py_utils.cc:38] TF-TRT Warning: Could not find TensorRT\n"
     ]
    }
   ],
   "source": [
    "from utils.downloader import *\n",
    "from utils.dataset_reader import *\n",
    "from utils.extractors import *\n",
    "from utils.augmentation import *\n",
    "import torch\n",
    "import torchvision\n",
    "import torch.nn as nn\n",
    "import os"
   ]
  },
  {
   "cell_type": "markdown",
   "metadata": {},
   "source": [
    "# TODO\n",
    "- Aggiungere nella pipeline di preparazione dei dati di pytorch la possibilità di fare da augmentation.\n",
    "- I logs sono salvati in datasets al momento\n"
   ]
  },
  {
   "cell_type": "markdown",
   "metadata": {},
   "source": [
    "# Notebook usage\n",
    "This notebook is used to streamline as much as possible the data setup for the project. We have trained models on data downloaded from the internet \n",
    "as well as present in the Torch and timm libraries. \n",
    "\n",
    "This notebook will help you set up the data in the correct directory structure.\n",
    "It will be used to download the data, extract it, and set it up in the correct directory structure.\n",
    "If you want to work using datasets preloaded in Torch or timm, you can skip this notebook.\n",
    "\n",
    "Everything that needs to be edited is marked with \"@edit\". It is procedural, therefore do not skip steps and go one cell at the time. \n",
    "\n",
    "At the moment less common cases such as image folder + .mat file or .csv file are not yet implemented in this notebook (csv function exists) or not implemented at all (.mat function doesn't exist at all)"
   ]
  },
  {
   "cell_type": "markdown",
   "metadata": {},
   "source": [
    "## Download Data from Kaggle"
   ]
  },
  {
   "cell_type": "code",
   "execution_count": 2,
   "metadata": {},
   "outputs": [
    {
     "name": "stdout",
     "output_type": "stream",
     "text": [
      "Dataset URL: https://www.kaggle.com/datasets/wenewone/cub2002011\n",
      "Kaggle Dataset downloaded successfully.\n"
     ]
    }
   ],
   "source": [
    "# manually edit the three following lines, save the dataset wherever you wish, but the \"datasets\" folder is recommended\n",
    "# make sure to use the absolute path, not relative\n",
    "# @edit\n",
    "#dataset_url = \"https://www.kaggle.com/datasets/prasanshasatpathy/soil-types\"\n",
    "dataset_url = \"https://www.kaggle.com/datasets/wenewone/cub2002011\"\n",
    "# @edit\n",
    "root = \"/home/disi/ml/datasets\"\n",
    "download_dataset_kaggle(dataset_url, root)\n",
    "# @edit extract zip\n",
    "#extract_tgz(f\"{dataset_url}/datasets.tar.gz\", root)"
   ]
  },
  {
   "cell_type": "markdown",
   "metadata": {},
   "source": [
    "# Download dataset from a url"
   ]
  },
  {
   "cell_type": "code",
   "execution_count": null,
   "metadata": {},
   "outputs": [],
   "source": [
    "# @edit\n",
    "dataset_url = \"https://www.robots.ox.ac.uk/~vgg/data/flowers/102/102flowers.tgz\"\n",
    "root = \"/home/disi/ml/datasets\"\n",
    "i = download_dataset(dataset_url, root)\n",
    "# Manually move it in the datasets folder if you do not need to unzip it, otherwhise extracting it with the following function\n",
    "# will do it for you\n",
    "# @edit\n",
    "extract_tgz(f\"{dataset_url}/datasets.tar.gz\", root)"
   ]
  },
  {
   "cell_type": "markdown",
   "metadata": {},
   "source": [
    "## Augment the dataset (optional)"
   ]
  },
  {
   "cell_type": "code",
   "execution_count": null,
   "metadata": {},
   "outputs": [],
   "source": [
    "# @edit\n",
    "# make sure to add a / in front of the folder name \n",
    "dataset_folder = root + \"/flowers\"\n",
    "image_generator =  setup_data_generator(rotation_range=40,\n",
    "                                        width_shift_range=0.2, \n",
    "                                        height_shift_range=0.2,\n",
    "                                        shear_range=0.2, \n",
    "                                        zoom_range=0.2, \n",
    "                                        horizontal_flip=True, \n",
    "                                        fill_mode='nearest')\n",
    "\n",
    "create_train_val_test_folders(dataset_folder, train_size=0.7, val_size=0.15, test_size=0.15)\n",
    "cleanup(dataset_folder)"
   ]
  },
  {
   "cell_type": "code",
   "execution_count": null,
   "metadata": {},
   "outputs": [],
   "source": [
    "directory_path  = dataset_folder + \"/train\"\n",
    "train_generator = load_data_from_directory(directory_path, target_size=(300,300), batch_size=32)\n",
    "n_of_batches = 50\n",
    "\n",
    "#TODO write how the number of batches infuences the actual amount of images generated"
   ]
  },
  {
   "cell_type": "code",
   "execution_count": null,
   "metadata": {},
   "outputs": [],
   "source": [
    "for i, (images, labels) in enumerate(train_generator):\n",
    "    if i >= n_of_batches:  # Stop after saving images from 50 batches\n",
    "        break\n",
    "    save_augmented_images(images, labels, directory_path, train_generator.class_indices)"
   ]
  },
  {
   "cell_type": "markdown",
   "metadata": {},
   "source": [
    "## Train-Test-Val-Split\n",
    "If you augmented the images you are good to go, the dataset is ready to be used in the main function. Otherwhise edit and execute the following block of code.\n"
   ]
  },
  {
   "cell_type": "code",
   "execution_count": 7,
   "metadata": {},
   "outputs": [],
   "source": [
    "# @edit\n",
    "# make sure to add a / in front of the folder name \n",
    "root = \"/home/disi/ml/datasets\"\n",
    "folder_target = f\"{root}/CUB_200_2011/images\"\n",
    "dataset_folder = folder_target #+ \"/jpg\""
   ]
  },
  {
   "cell_type": "code",
   "execution_count": 8,
   "metadata": {},
   "outputs": [
    {
     "ename": "ValueError",
     "evalue": "With n_samples=0, test_size=0.30000000000000004 and train_size=0.7, the resulting train set will be empty. Adjust any of the aforementioned parameters.",
     "output_type": "error",
     "traceback": [
      "\u001b[0;31m---------------------------------------------------------------------------\u001b[0m",
      "\u001b[0;31mValueError\u001b[0m                                Traceback (most recent call last)",
      "Cell \u001b[0;32mIn[8], line 1\u001b[0m\n\u001b[0;32m----> 1\u001b[0m \u001b[43mcreate_train_val_test_folders\u001b[49m\u001b[43m(\u001b[49m\u001b[43mdataset_folder\u001b[49m\u001b[43m,\u001b[49m\u001b[43m \u001b[49m\u001b[43mtrain_size\u001b[49m\u001b[38;5;241;43m=\u001b[39;49m\u001b[38;5;241;43m0.7\u001b[39;49m\u001b[43m,\u001b[49m\u001b[43m \u001b[49m\u001b[43mval_size\u001b[49m\u001b[38;5;241;43m=\u001b[39;49m\u001b[38;5;241;43m0.2\u001b[39;49m\u001b[43m,\u001b[49m\u001b[43m \u001b[49m\u001b[43mtest_size\u001b[49m\u001b[38;5;241;43m=\u001b[39;49m\u001b[38;5;241;43m0.1\u001b[39;49m\u001b[43m)\u001b[49m\n",
      "File \u001b[0;32m~/ml/intromlproject/utils/dataset_reader.py:167\u001b[0m, in \u001b[0;36mcreate_train_val_test_folders\u001b[0;34m(base_dir, train_size, val_size, test_size)\u001b[0m\n\u001b[1;32m    165\u001b[0m \u001b[38;5;28;01mfor\u001b[39;00m folder \u001b[38;5;129;01min\u001b[39;00m folders:\n\u001b[1;32m    166\u001b[0m     images \u001b[38;5;241m=\u001b[39m [os\u001b[38;5;241m.\u001b[39mpath\u001b[38;5;241m.\u001b[39mjoin(folder, f) \u001b[38;5;28;01mfor\u001b[39;00m f \u001b[38;5;129;01min\u001b[39;00m os\u001b[38;5;241m.\u001b[39mlistdir(folder) \u001b[38;5;28;01mif\u001b[39;00m os\u001b[38;5;241m.\u001b[39mpath\u001b[38;5;241m.\u001b[39misfile(os\u001b[38;5;241m.\u001b[39mpath\u001b[38;5;241m.\u001b[39mjoin(folder, f))]\n\u001b[0;32m--> 167\u001b[0m     train, temp \u001b[38;5;241m=\u001b[39m \u001b[43mtrain_test_split\u001b[49m\u001b[43m(\u001b[49m\u001b[43mimages\u001b[49m\u001b[43m,\u001b[49m\u001b[43m \u001b[49m\u001b[43mtrain_size\u001b[49m\u001b[38;5;241;43m=\u001b[39;49m\u001b[43mtrain_size\u001b[49m\u001b[43m,\u001b[49m\u001b[43m \u001b[49m\u001b[43mtest_size\u001b[49m\u001b[38;5;241;43m=\u001b[39;49m\u001b[43m(\u001b[49m\u001b[43mval_size\u001b[49m\u001b[38;5;241;43m+\u001b[39;49m\u001b[43mtest_size\u001b[49m\u001b[43m)\u001b[49m\u001b[43m,\u001b[49m\u001b[43m \u001b[49m\u001b[43mrandom_state\u001b[49m\u001b[38;5;241;43m=\u001b[39;49m\u001b[38;5;241;43m42\u001b[39;49m\u001b[43m)\u001b[49m\n\u001b[1;32m    168\u001b[0m     val, test \u001b[38;5;241m=\u001b[39m train_test_split(temp, train_size\u001b[38;5;241m=\u001b[39mval_size\u001b[38;5;241m/\u001b[39m(val_size \u001b[38;5;241m+\u001b[39m test_size), test_size\u001b[38;5;241m=\u001b[39mtest_size\u001b[38;5;241m/\u001b[39m(val_size \u001b[38;5;241m+\u001b[39m test_size), random_state\u001b[38;5;241m=\u001b[39m\u001b[38;5;241m42\u001b[39m)\n\u001b[1;32m    170\u001b[0m     \u001b[38;5;66;03m# Function to move files\u001b[39;00m\n",
      "File \u001b[0;32m~/ml/.venv/lib/python3.11/site-packages/sklearn/utils/_param_validation.py:213\u001b[0m, in \u001b[0;36mvalidate_params.<locals>.decorator.<locals>.wrapper\u001b[0;34m(*args, **kwargs)\u001b[0m\n\u001b[1;32m    207\u001b[0m \u001b[38;5;28;01mtry\u001b[39;00m:\n\u001b[1;32m    208\u001b[0m     \u001b[38;5;28;01mwith\u001b[39;00m config_context(\n\u001b[1;32m    209\u001b[0m         skip_parameter_validation\u001b[38;5;241m=\u001b[39m(\n\u001b[1;32m    210\u001b[0m             prefer_skip_nested_validation \u001b[38;5;129;01mor\u001b[39;00m global_skip_validation\n\u001b[1;32m    211\u001b[0m         )\n\u001b[1;32m    212\u001b[0m     ):\n\u001b[0;32m--> 213\u001b[0m         \u001b[38;5;28;01mreturn\u001b[39;00m \u001b[43mfunc\u001b[49m\u001b[43m(\u001b[49m\u001b[38;5;241;43m*\u001b[39;49m\u001b[43margs\u001b[49m\u001b[43m,\u001b[49m\u001b[43m \u001b[49m\u001b[38;5;241;43m*\u001b[39;49m\u001b[38;5;241;43m*\u001b[39;49m\u001b[43mkwargs\u001b[49m\u001b[43m)\u001b[49m\n\u001b[1;32m    214\u001b[0m \u001b[38;5;28;01mexcept\u001b[39;00m InvalidParameterError \u001b[38;5;28;01mas\u001b[39;00m e:\n\u001b[1;32m    215\u001b[0m     \u001b[38;5;66;03m# When the function is just a wrapper around an estimator, we allow\u001b[39;00m\n\u001b[1;32m    216\u001b[0m     \u001b[38;5;66;03m# the function to delegate validation to the estimator, but we replace\u001b[39;00m\n\u001b[1;32m    217\u001b[0m     \u001b[38;5;66;03m# the name of the estimator by the name of the function in the error\u001b[39;00m\n\u001b[1;32m    218\u001b[0m     \u001b[38;5;66;03m# message to avoid confusion.\u001b[39;00m\n\u001b[1;32m    219\u001b[0m     msg \u001b[38;5;241m=\u001b[39m re\u001b[38;5;241m.\u001b[39msub(\n\u001b[1;32m    220\u001b[0m         \u001b[38;5;124mr\u001b[39m\u001b[38;5;124m\"\u001b[39m\u001b[38;5;124mparameter of \u001b[39m\u001b[38;5;124m\\\u001b[39m\u001b[38;5;124mw+ must be\u001b[39m\u001b[38;5;124m\"\u001b[39m,\n\u001b[1;32m    221\u001b[0m         \u001b[38;5;124mf\u001b[39m\u001b[38;5;124m\"\u001b[39m\u001b[38;5;124mparameter of \u001b[39m\u001b[38;5;132;01m{\u001b[39;00mfunc\u001b[38;5;241m.\u001b[39m\u001b[38;5;18m__qualname__\u001b[39m\u001b[38;5;132;01m}\u001b[39;00m\u001b[38;5;124m must be\u001b[39m\u001b[38;5;124m\"\u001b[39m,\n\u001b[1;32m    222\u001b[0m         \u001b[38;5;28mstr\u001b[39m(e),\n\u001b[1;32m    223\u001b[0m     )\n",
      "File \u001b[0;32m~/ml/.venv/lib/python3.11/site-packages/sklearn/model_selection/_split.py:2660\u001b[0m, in \u001b[0;36mtrain_test_split\u001b[0;34m(test_size, train_size, random_state, shuffle, stratify, *arrays)\u001b[0m\n\u001b[1;32m   2657\u001b[0m arrays \u001b[38;5;241m=\u001b[39m indexable(\u001b[38;5;241m*\u001b[39marrays)\n\u001b[1;32m   2659\u001b[0m n_samples \u001b[38;5;241m=\u001b[39m _num_samples(arrays[\u001b[38;5;241m0\u001b[39m])\n\u001b[0;32m-> 2660\u001b[0m n_train, n_test \u001b[38;5;241m=\u001b[39m \u001b[43m_validate_shuffle_split\u001b[49m\u001b[43m(\u001b[49m\n\u001b[1;32m   2661\u001b[0m \u001b[43m    \u001b[49m\u001b[43mn_samples\u001b[49m\u001b[43m,\u001b[49m\u001b[43m \u001b[49m\u001b[43mtest_size\u001b[49m\u001b[43m,\u001b[49m\u001b[43m \u001b[49m\u001b[43mtrain_size\u001b[49m\u001b[43m,\u001b[49m\u001b[43m \u001b[49m\u001b[43mdefault_test_size\u001b[49m\u001b[38;5;241;43m=\u001b[39;49m\u001b[38;5;241;43m0.25\u001b[39;49m\n\u001b[1;32m   2662\u001b[0m \u001b[43m\u001b[49m\u001b[43m)\u001b[49m\n\u001b[1;32m   2664\u001b[0m \u001b[38;5;28;01mif\u001b[39;00m shuffle \u001b[38;5;129;01mis\u001b[39;00m \u001b[38;5;28;01mFalse\u001b[39;00m:\n\u001b[1;32m   2665\u001b[0m     \u001b[38;5;28;01mif\u001b[39;00m stratify \u001b[38;5;129;01mis\u001b[39;00m \u001b[38;5;129;01mnot\u001b[39;00m \u001b[38;5;28;01mNone\u001b[39;00m:\n",
      "File \u001b[0;32m~/ml/.venv/lib/python3.11/site-packages/sklearn/model_selection/_split.py:2308\u001b[0m, in \u001b[0;36m_validate_shuffle_split\u001b[0;34m(n_samples, test_size, train_size, default_test_size)\u001b[0m\n\u001b[1;32m   2305\u001b[0m n_train, n_test \u001b[38;5;241m=\u001b[39m \u001b[38;5;28mint\u001b[39m(n_train), \u001b[38;5;28mint\u001b[39m(n_test)\n\u001b[1;32m   2307\u001b[0m \u001b[38;5;28;01mif\u001b[39;00m n_train \u001b[38;5;241m==\u001b[39m \u001b[38;5;241m0\u001b[39m:\n\u001b[0;32m-> 2308\u001b[0m     \u001b[38;5;28;01mraise\u001b[39;00m \u001b[38;5;167;01mValueError\u001b[39;00m(\n\u001b[1;32m   2309\u001b[0m         \u001b[38;5;124m\"\u001b[39m\u001b[38;5;124mWith n_samples=\u001b[39m\u001b[38;5;132;01m{}\u001b[39;00m\u001b[38;5;124m, test_size=\u001b[39m\u001b[38;5;132;01m{}\u001b[39;00m\u001b[38;5;124m and train_size=\u001b[39m\u001b[38;5;132;01m{}\u001b[39;00m\u001b[38;5;124m, the \u001b[39m\u001b[38;5;124m\"\u001b[39m\n\u001b[1;32m   2310\u001b[0m         \u001b[38;5;124m\"\u001b[39m\u001b[38;5;124mresulting train set will be empty. Adjust any of the \u001b[39m\u001b[38;5;124m\"\u001b[39m\n\u001b[1;32m   2311\u001b[0m         \u001b[38;5;124m\"\u001b[39m\u001b[38;5;124maforementioned parameters.\u001b[39m\u001b[38;5;124m\"\u001b[39m\u001b[38;5;241m.\u001b[39mformat(n_samples, test_size, train_size)\n\u001b[1;32m   2312\u001b[0m     )\n\u001b[1;32m   2314\u001b[0m \u001b[38;5;28;01mreturn\u001b[39;00m n_train, n_test\n",
      "\u001b[0;31mValueError\u001b[0m: With n_samples=0, test_size=0.30000000000000004 and train_size=0.7, the resulting train set will be empty. Adjust any of the aforementioned parameters."
     ]
    }
   ],
   "source": [
    "create_train_val_test_folders(dataset_folder, train_size=0.7, val_size=0.15, test_size=0.15)"
   ]
  },
  {
   "cell_type": "markdown",
   "metadata": {},
   "source": [
    "# Datasets from Pytorch"
   ]
  },
  {
   "cell_type": "markdown",
   "metadata": {},
   "source": [
    "## FGVCAircraft"
   ]
  },
  {
   "cell_type": "code",
   "execution_count": 3,
   "metadata": {},
   "outputs": [
    {
     "name": "stdout",
     "output_type": "stream",
     "text": [
      "Downloading https://www.robots.ox.ac.uk/~vgg/data/fgvc-aircraft/archives/fgvc-aircraft-2013b.tar.gz to /home/disi/ml/datasets/fgvc-aircraft-2013b.tar.gz\n"
     ]
    },
    {
     "name": "stderr",
     "output_type": "stream",
     "text": [
      "100%|██████████| 2753340328/2753340328 [00:26<00:00, 103919480.40it/s]\n"
     ]
    },
    {
     "name": "stdout",
     "output_type": "stream",
     "text": [
      "Extracting /home/disi/ml/datasets/fgvc-aircraft-2013b.tar.gz to /home/disi/ml/datasets/\n"
     ]
    }
   ],
   "source": [
    "# @edit\n",
    "root = \"/home/disi/ml/datasets/\"\n",
    "dataset = torchvision.datasets.FGVCAircraft(root=root, download = True)"
   ]
  },
  {
   "cell_type": "code",
   "execution_count": 4,
   "metadata": {},
   "outputs": [],
   "source": [
    "# @edit\n",
    "dataset_path = f'{root}/fgvc-aircraft-2013b/data/images'\n",
    "new_dataset_path = f'{root}'\n",
    "train_txt_path = f'{root}/fgvc-aircraft-2013b/data/images_family_train.txt'\n",
    "val_txt_path = f'{root}/fgvc-aircraft-2013b/data/images_family_val.txt'\n",
    "test_txt_path = f'{root}/fgvc-aircraft-2013b/data/images_family_test.txt'"
   ]
  },
  {
   "cell_type": "code",
   "execution_count": 5,
   "metadata": {},
   "outputs": [],
   "source": [
    "reorganize_dataset_txt(dataset_path, train_txt_path, new_dataset_path, 'train')\n",
    "reorganize_dataset_txt(dataset_path, val_txt_path, new_dataset_path, 'val')\n",
    "reorganize_dataset_txt(dataset_path, test_txt_path, new_dataset_path, 'test')"
   ]
  },
  {
   "cell_type": "code",
   "execution_count": 10,
   "metadata": {},
   "outputs": [
    {
     "name": "stdout",
     "output_type": "stream",
     "text": [
      "Deleted folder: /home/disi/ml/datasets/CUB_200_2011/images/149.Brown_Thrasher\n",
      "Deleted folder: /home/disi/ml/datasets/CUB_200_2011/images/064.Ring_billed_Gull\n",
      "Deleted folder: /home/disi/ml/datasets/CUB_200_2011/images/081.Pied_Kingfisher\n",
      "Deleted folder: /home/disi/ml/datasets/CUB_200_2011/images/156.White_eyed_Vireo\n",
      "Deleted folder: /home/disi/ml/datasets/CUB_200_2011/images/187.American_Three_toed_Woodpecker\n",
      "Deleted folder: /home/disi/ml/datasets/CUB_200_2011/images/104.American_Pipit\n",
      "Deleted folder: /home/disi/ml/datasets/CUB_200_2011/images/142.Black_Tern\n",
      "Deleted folder: /home/disi/ml/datasets/CUB_200_2011/images/050.Eared_Grebe\n",
      "Deleted folder: /home/disi/ml/datasets/CUB_200_2011/images/034.Gray_crowned_Rosy_Finch\n",
      "Deleted folder: /home/disi/ml/datasets/CUB_200_2011/images/052.Pied_billed_Grebe\n",
      "Deleted folder: /home/disi/ml/datasets/CUB_200_2011/images/132.White_crowned_Sparrow\n",
      "Deleted folder: /home/disi/ml/datasets/CUB_200_2011/images/089.Hooded_Merganser\n",
      "Deleted folder: /home/disi/ml/datasets/CUB_200_2011/images/004.Groove_billed_Ani\n",
      "Deleted folder: /home/disi/ml/datasets/CUB_200_2011/images/080.Green_Kingfisher\n",
      "Deleted folder: /home/disi/ml/datasets/CUB_200_2011/images/096.Hooded_Oriole\n",
      "Deleted folder: /home/disi/ml/datasets/CUB_200_2011/images/172.Nashville_Warbler\n",
      "Deleted folder: /home/disi/ml/datasets/CUB_200_2011/images/060.Glaucous_winged_Gull\n",
      "Deleted folder: /home/disi/ml/datasets/CUB_200_2011/images/180.Wilson_Warbler\n",
      "Deleted folder: /home/disi/ml/datasets/CUB_200_2011/images/098.Scott_Oriole\n",
      "Deleted folder: /home/disi/ml/datasets/CUB_200_2011/images/040.Olive_sided_Flycatcher\n",
      "Deleted folder: /home/disi/ml/datasets/CUB_200_2011/images/027.Shiny_Cowbird\n",
      "Deleted folder: /home/disi/ml/datasets/CUB_200_2011/images/146.Forsters_Tern\n",
      "Deleted folder: /home/disi/ml/datasets/CUB_200_2011/images/054.Blue_Grosbeak\n",
      "Deleted folder: /home/disi/ml/datasets/CUB_200_2011/images/109.American_Redstart\n",
      "Deleted folder: /home/disi/ml/datasets/CUB_200_2011/images/013.Bobolink\n",
      "Deleted folder: /home/disi/ml/datasets/CUB_200_2011/images/076.Dark_eyed_Junco\n",
      "Deleted folder: /home/disi/ml/datasets/CUB_200_2011/images/055.Evening_Grosbeak\n",
      "Deleted folder: /home/disi/ml/datasets/CUB_200_2011/images/046.Gadwall\n",
      "Deleted folder: /home/disi/ml/datasets/CUB_200_2011/images/158.Bay_breasted_Warbler\n",
      "Deleted folder: /home/disi/ml/datasets/CUB_200_2011/images/174.Palm_Warbler\n",
      "Deleted folder: /home/disi/ml/datasets/CUB_200_2011/images/134.Cape_Glossy_Starling\n",
      "Deleted folder: /home/disi/ml/datasets/CUB_200_2011/images/151.Black_capped_Vireo\n",
      "Deleted folder: /home/disi/ml/datasets/CUB_200_2011/images/103.Sayornis\n",
      "Deleted folder: /home/disi/ml/datasets/CUB_200_2011/images/041.Scissor_tailed_Flycatcher\n",
      "Deleted folder: /home/disi/ml/datasets/CUB_200_2011/images/136.Barn_Swallow\n",
      "Deleted folder: /home/disi/ml/datasets/CUB_200_2011/images/083.White_breasted_Kingfisher\n",
      "Deleted folder: /home/disi/ml/datasets/CUB_200_2011/images/179.Tennessee_Warbler\n",
      "Deleted folder: /home/disi/ml/datasets/CUB_200_2011/images/078.Gray_Kingbird\n",
      "Deleted folder: /home/disi/ml/datasets/CUB_200_2011/images/062.Herring_Gull\n",
      "Deleted folder: /home/disi/ml/datasets/CUB_200_2011/images/126.Nelson_Sharp_tailed_Sparrow\n",
      "Deleted folder: /home/disi/ml/datasets/CUB_200_2011/images/020.Yellow_breasted_Chat\n",
      "Deleted folder: /home/disi/ml/datasets/CUB_200_2011/images/093.Clark_Nutcracker\n",
      "Deleted folder: /home/disi/ml/datasets/CUB_200_2011/images/094.White_breasted_Nuthatch\n",
      "Deleted folder: /home/disi/ml/datasets/CUB_200_2011/images/144.Common_Tern\n",
      "Deleted folder: /home/disi/ml/datasets/CUB_200_2011/images/018.Spotted_Catbird\n",
      "Deleted folder: /home/disi/ml/datasets/CUB_200_2011/images/195.Carolina_Wren\n",
      "Deleted folder: /home/disi/ml/datasets/CUB_200_2011/images/077.Tropical_Kingbird\n",
      "Deleted folder: /home/disi/ml/datasets/CUB_200_2011/images/130.Tree_Sparrow\n",
      "Deleted folder: /home/disi/ml/datasets/CUB_200_2011/images/074.Florida_Jay\n",
      "Deleted folder: /home/disi/ml/datasets/CUB_200_2011/images/165.Chestnut_sided_Warbler\n",
      "Deleted folder: /home/disi/ml/datasets/CUB_200_2011/images/121.Grasshopper_Sparrow\n",
      "Deleted folder: /home/disi/ml/datasets/CUB_200_2011/images/010.Red_winged_Blackbird\n",
      "Deleted folder: /home/disi/ml/datasets/CUB_200_2011/images/019.Gray_Catbird\n",
      "Deleted folder: /home/disi/ml/datasets/CUB_200_2011/images/170.Mourning_Warbler\n",
      "Deleted folder: /home/disi/ml/datasets/CUB_200_2011/images/196.House_Wren\n",
      "Deleted folder: /home/disi/ml/datasets/CUB_200_2011/images/042.Vermilion_Flycatcher\n",
      "Deleted folder: /home/disi/ml/datasets/CUB_200_2011/images/135.Bank_Swallow\n",
      "Deleted folder: /home/disi/ml/datasets/CUB_200_2011/images/038.Great_Crested_Flycatcher\n",
      "Deleted folder: /home/disi/ml/datasets/CUB_200_2011/images/002.Laysan_Albatross\n",
      "Deleted folder: /home/disi/ml/datasets/CUB_200_2011/images/143.Caspian_Tern\n",
      "Deleted folder: /home/disi/ml/datasets/CUB_200_2011/images/084.Red_legged_Kittiwake\n",
      "Deleted folder: /home/disi/ml/datasets/CUB_200_2011/images/048.European_Goldfinch\n",
      "Deleted folder: /home/disi/ml/datasets/CUB_200_2011/images/047.American_Goldfinch\n",
      "Deleted folder: /home/disi/ml/datasets/CUB_200_2011/images/008.Rhinoceros_Auklet\n",
      "Deleted folder: /home/disi/ml/datasets/CUB_200_2011/images/015.Lazuli_Bunting\n",
      "Deleted folder: /home/disi/ml/datasets/CUB_200_2011/images/147.Least_Tern\n",
      "Deleted folder: /home/disi/ml/datasets/CUB_200_2011/images/107.Common_Raven\n",
      "Deleted folder: /home/disi/ml/datasets/CUB_200_2011/images/145.Elegant_Tern\n",
      "Deleted folder: /home/disi/ml/datasets/CUB_200_2011/images/045.Northern_Fulmar\n",
      "Deleted folder: /home/disi/ml/datasets/CUB_200_2011/images/177.Prothonotary_Warbler\n",
      "Deleted folder: /home/disi/ml/datasets/CUB_200_2011/images/001.Black_footed_Albatross\n",
      "Skipped folder: /home/disi/ml/datasets/CUB_200_2011/images/val\n",
      "Deleted folder: /home/disi/ml/datasets/CUB_200_2011/images/169.Magnolia_Warbler\n",
      "Deleted folder: /home/disi/ml/datasets/CUB_200_2011/images/137.Cliff_Swallow\n",
      "Deleted folder: /home/disi/ml/datasets/CUB_200_2011/images/189.Red_bellied_Woodpecker\n",
      "Deleted folder: /home/disi/ml/datasets/CUB_200_2011/images/157.Yellow_throated_Vireo\n",
      "Deleted folder: /home/disi/ml/datasets/CUB_200_2011/images/192.Downy_Woodpecker\n",
      "Deleted folder: /home/disi/ml/datasets/CUB_200_2011/images/053.Western_Grebe\n",
      "Deleted folder: /home/disi/ml/datasets/CUB_200_2011/images/032.Mangrove_Cuckoo\n",
      "Deleted folder: /home/disi/ml/datasets/CUB_200_2011/images/028.Brown_Creeper\n",
      "Deleted folder: /home/disi/ml/datasets/CUB_200_2011/images/033.Yellow_billed_Cuckoo\n",
      "Deleted folder: /home/disi/ml/datasets/CUB_200_2011/images/099.Ovenbird\n",
      "Deleted folder: /home/disi/ml/datasets/CUB_200_2011/images/190.Red_cockaded_Woodpecker\n",
      "Deleted folder: /home/disi/ml/datasets/CUB_200_2011/images/194.Cactus_Wren\n",
      "Deleted folder: /home/disi/ml/datasets/CUB_200_2011/images/184.Louisiana_Waterthrush\n",
      "Deleted folder: /home/disi/ml/datasets/CUB_200_2011/images/058.Pigeon_Guillemot\n",
      "Deleted folder: /home/disi/ml/datasets/CUB_200_2011/images/155.Warbling_Vireo\n",
      "Deleted folder: /home/disi/ml/datasets/CUB_200_2011/images/066.Western_Gull\n",
      "Deleted folder: /home/disi/ml/datasets/CUB_200_2011/images/044.Frigatebird\n",
      "Deleted folder: /home/disi/ml/datasets/CUB_200_2011/images/166.Golden_winged_Warbler\n",
      "Deleted folder: /home/disi/ml/datasets/CUB_200_2011/images/007.Parakeet_Auklet\n",
      "Deleted folder: /home/disi/ml/datasets/CUB_200_2011/images/115.Brewer_Sparrow\n",
      "Deleted folder: /home/disi/ml/datasets/CUB_200_2011/images/125.Lincoln_Sparrow\n",
      "Deleted folder: /home/disi/ml/datasets/CUB_200_2011/images/141.Artic_Tern\n",
      "Deleted folder: /home/disi/ml/datasets/CUB_200_2011/images/124.Le_Conte_Sparrow\n",
      "Deleted folder: /home/disi/ml/datasets/CUB_200_2011/images/197.Marsh_Wren\n",
      "Deleted folder: /home/disi/ml/datasets/CUB_200_2011/images/127.Savannah_Sparrow\n",
      "Deleted folder: /home/disi/ml/datasets/CUB_200_2011/images/061.Heermann_Gull\n",
      "Deleted folder: /home/disi/ml/datasets/CUB_200_2011/images/003.Sooty_Albatross\n",
      "Deleted folder: /home/disi/ml/datasets/CUB_200_2011/images/110.Geococcyx\n",
      "Deleted folder: /home/disi/ml/datasets/CUB_200_2011/images/163.Cape_May_Warbler\n",
      "Deleted folder: /home/disi/ml/datasets/CUB_200_2011/images/036.Northern_Flicker\n",
      "Skipped folder: /home/disi/ml/datasets/CUB_200_2011/images/train\n",
      "Deleted folder: /home/disi/ml/datasets/CUB_200_2011/images/072.Pomarine_Jaeger\n",
      "Deleted folder: /home/disi/ml/datasets/CUB_200_2011/images/160.Black_throated_Blue_Warbler\n",
      "Deleted folder: /home/disi/ml/datasets/CUB_200_2011/images/056.Pine_Grosbeak\n",
      "Deleted folder: /home/disi/ml/datasets/CUB_200_2011/images/069.Rufous_Hummingbird\n",
      "Deleted folder: /home/disi/ml/datasets/CUB_200_2011/images/102.Western_Wood_Pewee\n",
      "Deleted folder: /home/disi/ml/datasets/CUB_200_2011/images/005.Crested_Auklet\n",
      "Deleted folder: /home/disi/ml/datasets/CUB_200_2011/images/092.Nighthawk\n",
      "Deleted folder: /home/disi/ml/datasets/CUB_200_2011/images/139.Scarlet_Tanager\n",
      "Deleted folder: /home/disi/ml/datasets/CUB_200_2011/images/140.Summer_Tanager\n",
      "Deleted folder: /home/disi/ml/datasets/CUB_200_2011/images/037.Acadian_Flycatcher\n",
      "Deleted folder: /home/disi/ml/datasets/CUB_200_2011/images/128.Seaside_Sparrow\n",
      "Deleted folder: /home/disi/ml/datasets/CUB_200_2011/images/119.Field_Sparrow\n",
      "Deleted folder: /home/disi/ml/datasets/CUB_200_2011/images/117.Clay_colored_Sparrow\n",
      "Deleted folder: /home/disi/ml/datasets/CUB_200_2011/images/176.Prairie_Warbler\n",
      "Deleted folder: /home/disi/ml/datasets/CUB_200_2011/images/091.Mockingbird\n",
      "Deleted folder: /home/disi/ml/datasets/CUB_200_2011/images/105.Whip_poor_Will\n",
      "Deleted folder: /home/disi/ml/datasets/CUB_200_2011/images/088.Western_Meadowlark\n",
      "Deleted folder: /home/disi/ml/datasets/CUB_200_2011/images/024.Red_faced_Cormorant\n",
      "Deleted folder: /home/disi/ml/datasets/CUB_200_2011/images/150.Sage_Thrasher\n",
      "Deleted folder: /home/disi/ml/datasets/CUB_200_2011/images/161.Blue_winged_Warbler\n",
      "Deleted folder: /home/disi/ml/datasets/CUB_200_2011/images/059.California_Gull\n",
      "Deleted folder: /home/disi/ml/datasets/CUB_200_2011/images/039.Least_Flycatcher\n",
      "Deleted folder: /home/disi/ml/datasets/CUB_200_2011/images/025.Pelagic_Cormorant\n",
      "Deleted folder: /home/disi/ml/datasets/CUB_200_2011/images/199.Winter_Wren\n",
      "Deleted folder: /home/disi/ml/datasets/CUB_200_2011/images/148.Green_tailed_Towhee\n",
      "Deleted folder: /home/disi/ml/datasets/CUB_200_2011/images/178.Swainson_Warbler\n",
      "Deleted folder: /home/disi/ml/datasets/CUB_200_2011/images/111.Loggerhead_Shrike\n",
      "Deleted folder: /home/disi/ml/datasets/CUB_200_2011/images/154.Red_eyed_Vireo\n",
      "Deleted folder: /home/disi/ml/datasets/CUB_200_2011/images/188.Pileated_Woodpecker\n",
      "Deleted folder: /home/disi/ml/datasets/CUB_200_2011/images/022.Chuck_will_Widow\n",
      "Deleted folder: /home/disi/ml/datasets/CUB_200_2011/images/057.Rose_breasted_Grosbeak\n",
      "Deleted folder: /home/disi/ml/datasets/CUB_200_2011/images/051.Horned_Grebe\n",
      "Deleted folder: /home/disi/ml/datasets/CUB_200_2011/images/118.House_Sparrow\n",
      "Deleted folder: /home/disi/ml/datasets/CUB_200_2011/images/065.Slaty_backed_Gull\n",
      "Deleted folder: /home/disi/ml/datasets/CUB_200_2011/images/049.Boat_tailed_Grackle\n",
      "Deleted folder: /home/disi/ml/datasets/CUB_200_2011/images/114.Black_throated_Sparrow\n",
      "Deleted folder: /home/disi/ml/datasets/CUB_200_2011/images/017.Cardinal\n",
      "Deleted folder: /home/disi/ml/datasets/CUB_200_2011/images/097.Orchard_Oriole\n",
      "Deleted folder: /home/disi/ml/datasets/CUB_200_2011/images/030.Fish_Crow\n",
      "Deleted folder: /home/disi/ml/datasets/CUB_200_2011/images/159.Black_and_white_Warbler\n",
      "Deleted folder: /home/disi/ml/datasets/CUB_200_2011/images/171.Myrtle_Warbler\n",
      "Deleted folder: /home/disi/ml/datasets/CUB_200_2011/images/108.White_necked_Raven\n",
      "Deleted folder: /home/disi/ml/datasets/CUB_200_2011/images/085.Horned_Lark\n",
      "Deleted folder: /home/disi/ml/datasets/CUB_200_2011/images/100.Brown_Pelican\n",
      "Deleted folder: /home/disi/ml/datasets/CUB_200_2011/images/175.Pine_Warbler\n",
      "Deleted folder: /home/disi/ml/datasets/CUB_200_2011/images/106.Horned_Puffin\n",
      "Deleted folder: /home/disi/ml/datasets/CUB_200_2011/images/067.Anna_Hummingbird\n",
      "Deleted folder: /home/disi/ml/datasets/CUB_200_2011/images/193.Bewick_Wren\n",
      "Deleted folder: /home/disi/ml/datasets/CUB_200_2011/images/087.Mallard\n",
      "Deleted folder: /home/disi/ml/datasets/CUB_200_2011/images/035.Purple_Finch\n",
      "Deleted folder: /home/disi/ml/datasets/CUB_200_2011/images/173.Orange_crowned_Warbler\n",
      "Deleted folder: /home/disi/ml/datasets/CUB_200_2011/images/101.White_Pelican\n",
      "Deleted folder: /home/disi/ml/datasets/CUB_200_2011/images/012.Yellow_headed_Blackbird\n",
      "Deleted folder: /home/disi/ml/datasets/CUB_200_2011/images/129.Song_Sparrow\n",
      "Deleted folder: /home/disi/ml/datasets/CUB_200_2011/images/079.Belted_Kingfisher\n",
      "Deleted folder: /home/disi/ml/datasets/CUB_200_2011/images/073.Blue_Jay\n",
      "Deleted folder: /home/disi/ml/datasets/CUB_200_2011/images/016.Painted_Bunting\n",
      "Deleted folder: /home/disi/ml/datasets/CUB_200_2011/images/023.Brandt_Cormorant\n",
      "Deleted folder: /home/disi/ml/datasets/CUB_200_2011/images/014.Indigo_Bunting\n",
      "Deleted folder: /home/disi/ml/datasets/CUB_200_2011/images/011.Rusty_Blackbird\n",
      "Deleted folder: /home/disi/ml/datasets/CUB_200_2011/images/200.Common_Yellowthroat\n",
      "Deleted folder: /home/disi/ml/datasets/CUB_200_2011/images/152.Blue_headed_Vireo\n",
      "Deleted folder: /home/disi/ml/datasets/CUB_200_2011/images/021.Eastern_Towhee\n",
      "Deleted folder: /home/disi/ml/datasets/CUB_200_2011/images/026.Bronzed_Cowbird\n",
      "Deleted folder: /home/disi/ml/datasets/CUB_200_2011/images/164.Cerulean_Warbler\n",
      "Deleted folder: /home/disi/ml/datasets/CUB_200_2011/images/120.Fox_Sparrow\n",
      "Deleted folder: /home/disi/ml/datasets/CUB_200_2011/images/116.Chipping_Sparrow\n",
      "Deleted folder: /home/disi/ml/datasets/CUB_200_2011/images/086.Pacific_Loon\n",
      "Deleted folder: /home/disi/ml/datasets/CUB_200_2011/images/122.Harris_Sparrow\n",
      "Deleted folder: /home/disi/ml/datasets/CUB_200_2011/images/191.Red_headed_Woodpecker\n",
      "Deleted folder: /home/disi/ml/datasets/CUB_200_2011/images/153.Philadelphia_Vireo\n",
      "Deleted folder: /home/disi/ml/datasets/CUB_200_2011/images/185.Bohemian_Waxwing\n",
      "Skipped folder: /home/disi/ml/datasets/CUB_200_2011/images/test\n",
      "Deleted folder: /home/disi/ml/datasets/CUB_200_2011/images/181.Worm_eating_Warbler\n",
      "Deleted folder: /home/disi/ml/datasets/CUB_200_2011/images/082.Ringed_Kingfisher\n",
      "Deleted folder: /home/disi/ml/datasets/CUB_200_2011/images/182.Yellow_Warbler\n",
      "Deleted folder: /home/disi/ml/datasets/CUB_200_2011/images/095.Baltimore_Oriole\n",
      "Deleted folder: /home/disi/ml/datasets/CUB_200_2011/images/186.Cedar_Waxwing\n",
      "Deleted folder: /home/disi/ml/datasets/CUB_200_2011/images/113.Baird_Sparrow\n",
      "Deleted folder: /home/disi/ml/datasets/CUB_200_2011/images/112.Great_Grey_Shrike\n",
      "Deleted folder: /home/disi/ml/datasets/CUB_200_2011/images/167.Hooded_Warbler\n",
      "Deleted folder: /home/disi/ml/datasets/CUB_200_2011/images/183.Northern_Waterthrush\n",
      "Deleted folder: /home/disi/ml/datasets/CUB_200_2011/images/131.Vesper_Sparrow\n",
      "Deleted folder: /home/disi/ml/datasets/CUB_200_2011/images/031.Black_billed_Cuckoo\n",
      "Deleted folder: /home/disi/ml/datasets/CUB_200_2011/images/006.Least_Auklet\n",
      "Deleted folder: /home/disi/ml/datasets/CUB_200_2011/images/029.American_Crow\n",
      "Deleted folder: /home/disi/ml/datasets/CUB_200_2011/images/133.White_throated_Sparrow\n",
      "Deleted folder: /home/disi/ml/datasets/CUB_200_2011/images/009.Brewer_Blackbird\n",
      "Deleted folder: /home/disi/ml/datasets/CUB_200_2011/images/168.Kentucky_Warbler\n",
      "Deleted folder: /home/disi/ml/datasets/CUB_200_2011/images/162.Canada_Warbler\n",
      "Deleted folder: /home/disi/ml/datasets/CUB_200_2011/images/198.Rock_Wren\n",
      "Deleted folder: /home/disi/ml/datasets/CUB_200_2011/images/090.Red_breasted_Merganser\n",
      "Deleted folder: /home/disi/ml/datasets/CUB_200_2011/images/043.Yellow_bellied_Flycatcher\n",
      "Deleted folder: /home/disi/ml/datasets/CUB_200_2011/images/071.Long_tailed_Jaeger\n",
      "Deleted folder: /home/disi/ml/datasets/CUB_200_2011/images/070.Green_Violetear\n",
      "Deleted folder: /home/disi/ml/datasets/CUB_200_2011/images/138.Tree_Swallow\n",
      "Deleted folder: /home/disi/ml/datasets/CUB_200_2011/images/075.Green_Jay\n",
      "Deleted folder: /home/disi/ml/datasets/CUB_200_2011/images/063.Ivory_Gull\n",
      "Deleted folder: /home/disi/ml/datasets/CUB_200_2011/images/068.Ruby_throated_Hummingbird\n",
      "Deleted folder: /home/disi/ml/datasets/CUB_200_2011/images/123.Henslow_Sparrow\n"
     ]
    }
   ],
   "source": [
    "# @edit\n",
    "cleanup(f'{root}')"
   ]
  },
  {
   "cell_type": "markdown",
   "metadata": {},
   "source": [
    "## Flowers102 / Oxford Flowers"
   ]
  },
  {
   "cell_type": "code",
   "execution_count": 8,
   "metadata": {},
   "outputs": [
    {
     "name": "stdout",
     "output_type": "stream",
     "text": [
      "Downloading https://thor.robots.ox.ac.uk/datasets/flowers-102/102flowers.tgz to /home/disi/ml/datasets/flowers-102/102flowers.tgz\n"
     ]
    },
    {
     "name": "stderr",
     "output_type": "stream",
     "text": [
      "100%|██████████| 344862509/344862509 [00:01<00:00, 260280841.69it/s]\n"
     ]
    },
    {
     "name": "stdout",
     "output_type": "stream",
     "text": [
      "Extracting /home/disi/ml/datasets/flowers-102/102flowers.tgz to /home/disi/ml/datasets/flowers-102\n",
      "Downloading https://thor.robots.ox.ac.uk/datasets/flowers-102/imagelabels.mat to /home/disi/ml/datasets/flowers-102/imagelabels.mat\n"
     ]
    },
    {
     "name": "stderr",
     "output_type": "stream",
     "text": [
      "100%|██████████| 502/502 [00:00<00:00, 488071.54it/s]\n"
     ]
    },
    {
     "name": "stdout",
     "output_type": "stream",
     "text": [
      "Downloading https://thor.robots.ox.ac.uk/datasets/flowers-102/setid.mat to /home/disi/ml/datasets/flowers-102/setid.mat\n"
     ]
    },
    {
     "name": "stderr",
     "output_type": "stream",
     "text": [
      "100%|██████████| 14989/14989 [00:00<00:00, 21089709.04it/s]\n"
     ]
    }
   ],
   "source": [
    "# @edit\n",
    "root = \"/home/disi/ml/datasets/\"\n",
    "dataset = torchvision.datasets.Flowers102(root=root, download = True)\n"
   ]
  },
  {
   "cell_type": "code",
   "execution_count": 10,
   "metadata": {},
   "outputs": [],
   "source": [
    "# Paths to your original dataset, .mat file, and new dataset location\n",
    "# @edit\n",
    "dataset_path = f'{root}/flowers-102/jpg'\n",
    "mat_path = f'{root}/flowers-102/imagelabels.mat'\n",
    "new_dataset_path = f'{root}'"
   ]
  },
  {
   "cell_type": "code",
   "execution_count": 11,
   "metadata": {},
   "outputs": [],
   "source": [
    "# Call the function for each of your train, validation, and test sets\n",
    "reorganize_dataset_mat(dataset_path, mat_path, new_dataset_path, 'train')\n",
    "reorganize_dataset_mat(dataset_path, mat_path, new_dataset_path, 'val')\n",
    "reorganize_dataset_mat(dataset_path, mat_path, new_dataset_path, 'test')"
   ]
  },
  {
   "cell_type": "code",
   "execution_count": 12,
   "metadata": {},
   "outputs": [
    {
     "name": "stdout",
     "output_type": "stream",
     "text": [
      "Skipped folder: /home/disi/ml/datasets/val\n",
      "Deleted folder: /home/disi/ml/datasets/flowers-102\n",
      "Skipped folder: /home/disi/ml/datasets/train\n",
      "Skipped folder: /home/disi/ml/datasets/test\n"
     ]
    }
   ],
   "source": [
    "# @edit\n",
    "cleanup(root)"
   ]
  },
  {
   "cell_type": "markdown",
   "metadata": {},
   "source": [
    "# Last step\n",
    "Once you reach the train-test-val configuration, run this final function to create a folder named as you wish that will contain train-test-val. This will be our root in the main.py. "
   ]
  },
  {
   "cell_type": "code",
   "execution_count": 15,
   "metadata": {},
   "outputs": [],
   "source": [
    "# @edit\n",
    "location = root\n",
    "newfolder_name = 'Flowers102'\n",
    "train_folder = f'{location}/train/'\n",
    "val_folder = f'{location}/val/'\n",
    "test_folder = f'{location}/test/'\n",
    "final_structure(location, newfolder_name, train_folder, val_folder, test_folder)"
   ]
  },
  {
   "cell_type": "code",
   "execution_count": null,
   "metadata": {},
   "outputs": [],
   "source": []
  },
  {
   "cell_type": "code",
   "execution_count": null,
   "metadata": {},
   "outputs": [],
   "source": [
    "import os"
   ]
  },
  {
   "cell_type": "code",
   "execution_count": null,
   "metadata": {},
   "outputs": [],
   "source": [
    "img_root = '/home/lorenzo/Desktop/qui/intromlproject_su cui lavorare/datasets/Flowers102'\n",
    "path = os.path.dirname(img_root) + \"/\""
   ]
  },
  {
   "cell_type": "code",
   "execution_count": null,
   "metadata": {},
   "outputs": [],
   "source": [
    "print(img_root)"
   ]
  },
  {
   "cell_type": "code",
   "execution_count": null,
   "metadata": {},
   "outputs": [],
   "source": [
    "folder = os.path.basename(img_root)\n",
    "print(path)"
   ]
  },
  {
   "cell_type": "code",
   "execution_count": null,
   "metadata": {},
   "outputs": [],
   "source": [
    "\n",
    "# Define the root path\n",
    "img_root = '/home/disi/ml/intromlproject/datasets/Aerei'\n",
    "\n",
    "# Standardize the path\n",
    "standardized_path = os.path.normpath(img_root)\n",
    "\n",
    "# Split the path into directory and the last component\n",
    "path, folder = os.path.split(standardized_path)\n",
    "\n",
    "# Print the results\n",
    "print(\"Path:\", path)\n",
    "print(\"Folder:\", folder)"
   ]
  },
  {
   "cell_type": "code",
   "execution_count": null,
   "metadata": {},
   "outputs": [],
   "source": []
  },
  {
   "cell_type": "markdown",
   "metadata": {},
   "source": [
    "## OXFORD PETS"
   ]
  },
  {
   "cell_type": "code",
   "execution_count": 5,
   "metadata": {},
   "outputs": [],
   "source": [
    "from torch.utils.data import DataLoader, random_split\n",
    "import torchvision.transforms as transforms\n",
    "import torchvision.datasets as datasets"
   ]
  },
  {
   "cell_type": "code",
   "execution_count": 23,
   "metadata": {},
   "outputs": [],
   "source": [
    "transform = transforms.Compose([\n",
    "        transforms.Resize(256),\n",
    "        transforms.CenterCrop(224),\n",
    "        transforms.ToTensor(),\n",
    "        transforms.Normalize(mean=[0.4914, 0.4822, 0.4465], std=[0.2023, 0.1994, 0.2010])\n",
    "    ])"
   ]
  },
  {
   "cell_type": "code",
   "execution_count": 24,
   "metadata": {},
   "outputs": [],
   "source": [
    "dataset = datasets.OxfordIIITPet(root=\"../datasets/\",download=True, transform=transform) "
   ]
  },
  {
   "cell_type": "code",
   "execution_count": 25,
   "metadata": {},
   "outputs": [
    {
     "data": {
      "text/plain": [
       "torchvision.datasets.oxford_iiit_pet.OxfordIIITPet"
      ]
     },
     "execution_count": 25,
     "metadata": {},
     "output_type": "execute_result"
    }
   ],
   "source": [
    "type(dataset)"
   ]
  },
  {
   "cell_type": "code",
   "execution_count": 28,
   "metadata": {},
   "outputs": [],
   "source": [
    "train_size = int(0.7 * len(dataset))\n",
    "val_size = int(0.15 * len(dataset))\n",
    "test_size = len(dataset) - train_size - val_size"
   ]
  },
  {
   "cell_type": "code",
   "execution_count": 29,
   "metadata": {},
   "outputs": [],
   "source": [
    "train_dataset, val_dataset, test_dataset = random_split(dataset, [train_size, val_size, test_size])"
   ]
  },
  {
   "cell_type": "code",
   "execution_count": 30,
   "metadata": {},
   "outputs": [
    {
     "data": {
      "text/plain": [
       "torch.utils.data.dataset.Subset"
      ]
     },
     "execution_count": 30,
     "metadata": {},
     "output_type": "execute_result"
    }
   ],
   "source": [
    "type(train_dataset)"
   ]
  },
  {
   "cell_type": "code",
   "execution_count": 31,
   "metadata": {},
   "outputs": [],
   "source": [
    "train_loader = DataLoader(train_dataset, batch_size=32, shuffle=True)\n",
    "val_loader = DataLoader(val_dataset, batch_size=32, shuffle=False)\n",
    "test_loader = DataLoader(test_dataset, batch_size=32, shuffle=False)"
   ]
  },
  {
   "cell_type": "code",
   "execution_count": 35,
   "metadata": {},
   "outputs": [
    {
     "name": "stdout",
     "output_type": "stream",
     "text": [
      "tensor([24, 29,  4, 21,  3, 30, 12, 18, 22, 27, 28, 20, 22, 15, 18, 13,  0, 18,\n",
      "        15, 25, 10, 31, 18, 32,  7, 12,  1, 22, 31,  4, 23, 13])\n",
      "tensor([25, 33, 10, 18, 13, 12, 19,  7, 25, 12, 36, 30, 15, 19, 18, 21,  7, 35,\n",
      "        17, 34,  0, 33, 20, 33,  3, 27, 22, 10, 13, 25, 26, 20])\n",
      "tensor([ 9,  3,  0,  9, 12, 21, 10,  9, 29,  6, 13, 23, 17, 14, 22, 13, 26, 27,\n",
      "         0,  4, 18, 15, 32, 34, 23, 28, 31,  3, 20,  2, 10,  5])\n",
      "tensor([30, 10,  9, 17, 31, 30,  5, 19, 17, 33, 32,  6,  8,  2,  3, 24, 32, 21,\n",
      "        29, 34, 16, 29, 30,  4, 25,  2,  8, 24, 25, 28, 28, 18])\n",
      "tensor([32, 14, 11, 15,  0,  6, 30,  5, 12, 17, 23, 26,  0,  4, 15,  4,  0,  5,\n",
      "        11, 24, 28,  9, 16, 21, 32, 25, 29, 29, 23, 33, 36, 12])\n",
      "tensor([15, 13,  0, 19, 14,  8, 10, 20, 30, 20, 22,  0, 25, 17, 25, 15, 17, 21,\n",
      "         9, 18, 36, 20, 32, 31, 16, 25,  2, 25, 24,  4, 18, 29])\n",
      "tensor([19, 34, 22, 10, 18, 36,  2, 21,  5, 19,  9, 32,  4, 19, 33, 18, 23, 19,\n",
      "        32, 29, 14, 29, 13, 15, 31, 29,  9, 11, 33, 30, 14, 13])\n",
      "tensor([19, 28, 35, 18, 20, 26, 11, 13,  0, 29, 19, 10, 22, 29, 14, 23, 19, 12,\n",
      "         7,  1, 10, 15, 15, 19, 27, 12,  7,  1, 10, 35, 35,  4])\n",
      "tensor([18, 28,  1, 10,  4, 27, 31, 16, 30,  8, 25, 13,  3, 17,  1,  3, 11, 17,\n",
      "        19, 22, 10, 26,  2,  5,  1, 26,  3,  4,  9, 32,  0,  6])\n",
      "tensor([24, 12, 16,  8,  4,  7,  5, 26, 29, 15, 16,  2, 19, 16,  7, 36,  8, 31,\n",
      "        28, 27, 20, 23, 10, 26,  8,  4, 14, 19, 36, 11,  1,  6])\n",
      "tensor([35, 11, 17, 21, 15, 18, 33, 26, 18, 32, 24, 13, 16, 18, 33,  6, 28, 26,\n",
      "        27,  1, 35, 12,  7, 28, 29,  1, 13, 27, 31, 22, 34, 29])\n",
      "tensor([28, 24, 13, 35, 26, 20, 36,  2, 26, 17, 32,  5, 10, 18, 19, 24, 33, 24,\n",
      "        28, 24, 14,  3, 18, 18,  3, 17, 30,  4, 32, 18,  4, 25])\n",
      "tensor([ 3, 26, 13, 28, 30,  6, 23, 15,  0,  7, 24,  8,  2, 32, 35,  9,  6,  2,\n",
      "         8, 34, 24,  6,  4, 26,  4, 10, 26, 21, 10, 32,  7, 31])\n",
      "tensor([30,  2,  3, 23,  9, 24, 35, 34,  7, 19, 21, 31, 22, 11, 30, 11,  9, 27,\n",
      "         5, 14, 17,  2, 27, 19, 21, 10,  4, 23,  4, 25, 26,  9])\n",
      "tensor([16,  4, 30, 36, 18, 13, 20, 13,  9, 30, 25, 20, 16,  4,  1, 14, 20, 17,\n",
      "         3, 34, 20,  8, 11, 19, 12,  8, 22,  2,  5,  9, 24, 21])\n",
      "tensor([27, 30, 34, 17, 23, 20, 19,  2, 23,  6, 10,  4, 10, 33, 27,  5, 35, 22,\n",
      "        21, 28, 13, 29,  0, 15,  9,  5, 26, 32, 15,  8,  0, 29])\n",
      "tensor([ 4, 28, 26, 35,  3, 29, 31, 12,  6, 29, 27,  8, 20,  0, 31, 33, 14,  0,\n",
      "         4, 24, 36,  0, 16, 36, 36,  4, 29, 29, 26, 22, 10, 15])\n",
      "tensor([ 8,  8, 11,  5,  2, 35,  0, 14, 16, 23, 26, 24, 11, 14, 10, 28, 21, 12,\n",
      "        36,  1,  3, 21, 18, 15, 11,  0, 35, 33,  0,  6, 36,  1])\n",
      "tensor([23,  5, 16, 24, 32, 28,  2, 27, 15,  8, 36, 28, 20,  2, 13, 23, 22, 33,\n",
      "         8,  5, 20, 36, 34, 25,  1, 15, 17, 33, 18, 33, 14, 23])\n",
      "tensor([14,  7, 21, 13, 19, 17,  6, 22, 18, 14, 21, 24, 36, 16, 22, 12,  9, 12,\n",
      "        12, 14, 12,  0,  2, 27, 34, 27, 12,  3, 20, 16,  6, 33])\n",
      "tensor([33,  6, 25, 25,  9, 33, 21, 13, 16,  1,  7, 27, 26,  3, 10, 11,  2, 15,\n",
      "        34, 14, 16, 32, 22, 17, 26,  8, 10,  8, 36, 19,  8, 36])\n",
      "tensor([36,  4,  8,  5, 10,  4, 31,  2, 16,  2,  5,  4, 24,  5, 10, 12,  0,  7,\n",
      "         2, 21,  2,  2, 15,  9, 12,  7,  8,  2,  4,  8,  2,  9])\n",
      "tensor([28, 33, 33, 16, 17, 24, 29,  5, 12, 12, 13,  5, 22,  9,  6,  0, 12, 20,\n",
      "         0,  5, 32, 34, 29, 10,  5, 16,  2, 33, 25, 35, 11, 34])\n",
      "tensor([13, 32, 32,  1, 34, 21, 13, 32,  4, 15, 31,  0,  0, 27, 31,  5, 22, 23,\n",
      "        31, 23, 24, 28, 16, 27, 33,  0,  0,  5,  2, 23, 22, 35])\n",
      "tensor([13, 21, 17, 19, 18,  6, 10, 31, 30, 10,  5, 31, 19, 27, 21, 35, 14,  9,\n",
      "         5, 32, 33, 29,  0, 10, 22, 20, 35,  7, 13,  8, 26, 27])\n",
      "tensor([36, 25, 19, 17, 11, 10,  8, 34,  1, 21, 18, 15, 21, 21, 36, 21,  1, 36,\n",
      "         4, 31, 17, 29, 28, 29, 30,  3, 27,  9, 33, 25, 36, 30])\n",
      "tensor([33, 28,  3, 29,  3, 11, 11, 14, 12, 17, 33, 28, 28, 25, 19, 20,  7, 16,\n",
      "        13,  1, 35, 24, 30, 20,  2, 27, 21,  4, 18, 27, 11, 29])\n",
      "tensor([11, 15, 26, 21,  6, 34, 36, 21, 16, 20,  0,  5, 31,  3, 14, 27, 14,  9,\n",
      "        36, 22, 20, 34, 22, 24, 12, 33, 14, 18, 26, 13,  7,  0])\n",
      "tensor([25, 15, 15,  2, 30, 20,  1,  1,  7, 28, 30, 22, 35,  6, 28, 16,  0, 12,\n",
      "        24, 26, 33,  7,  0, 17,  6, 16, 19, 35, 30, 16, 20, 20])\n",
      "tensor([29, 18,  5, 26,  0, 26, 28, 25,  6,  3,  5,  0, 14, 13,  3, 25, 25, 20,\n",
      "        25,  8, 25, 31, 35, 31, 16, 13, 18, 21,  0, 26, 22,  3])\n",
      "tensor([28, 10, 34,  1, 12, 36, 30, 12, 16, 35, 29,  5, 32, 34, 13, 20, 10,  1,\n",
      "        34,  0, 29,  2,  4,  2, 23, 10, 22, 25, 19,  7, 12,  0])\n",
      "tensor([17, 31, 26, 22, 31,  0, 34,  6, 13, 11,  2,  1,  4, 14, 18, 31, 23, 21,\n",
      "         2,  8, 25, 15, 11, 14,  0, 33, 18, 23, 32, 23,  3, 21])\n",
      "tensor([ 6, 21, 23, 17, 17,  7,  9,  4,  1, 22, 33, 32, 15, 32, 13, 17, 10, 10,\n",
      "         0, 35,  9, 11, 13, 11, 28,  1, 16,  3, 20, 20, 19, 32])\n",
      "tensor([34, 15, 33, 33,  6, 26, 33, 23, 29, 29,  7, 27, 26, 23, 17,  1, 20,  7,\n",
      "        36, 17,  7, 27,  8, 14, 14, 16, 35,  3, 31, 33, 21, 17])\n",
      "tensor([31,  2, 17,  2, 12,  1, 20, 34, 12,  4, 34, 13, 34, 34, 16, 18,  6, 16,\n",
      "        16, 21, 15, 10, 16, 22, 14,  9,  9, 15, 32, 15,  1, 17])\n",
      "tensor([17, 34, 36, 16, 35, 30,  1,  8, 21, 14, 15, 13, 21, 22, 14, 33, 26, 24,\n",
      "        10, 35,  9, 29,  4,  3,  6,  4, 25, 15, 16,  0, 23, 15])\n",
      "tensor([15, 25, 30, 11, 28,  8,  8, 24, 32, 34,  7, 35, 10, 36, 11, 19, 23, 25,\n",
      "         9, 22,  8, 22, 24,  7,  3, 24, 31, 34, 27,  5, 20,  5])\n",
      "tensor([14,  7, 24, 26, 20, 20, 24,  3,  8, 24, 30,  4, 14, 24,  0, 22,  8, 18,\n",
      "         6, 35,  8, 22,  1, 15, 13, 24, 19, 33, 12, 32, 26,  7])\n",
      "tensor([31, 13, 26, 24, 23, 17, 12, 17, 11, 18,  3, 11, 33,  4, 31, 12, 26, 27,\n",
      "        21, 22, 11,  8, 14, 25, 13, 26,  4, 10,  2,  6, 34, 23])\n",
      "tensor([ 2, 16, 36, 15,  0, 19,  9, 24, 36, 31, 24, 33, 15,  4,  8,  7, 36, 21,\n",
      "        10, 16,  1,  5, 29, 26, 13, 10,  6, 15, 19,  1,  8, 33])\n",
      "tensor([12, 14,  1,  8, 11,  3, 22, 10, 11, 25,  3, 24,  2, 34,  7, 32,  1,  4,\n",
      "        19, 25, 12, 32, 17, 24, 25, 22, 22, 19,  7, 26, 23, 25])\n",
      "tensor([ 3, 31, 21, 10, 19,  3,  6,  9, 25,  5, 34, 10,  5, 28, 29, 16, 33, 10,\n",
      "        24, 14, 24,  6, 20, 25, 13,  7,  6, 26,  9, 28,  0, 15])\n",
      "tensor([25, 33, 28,  5, 28,  9,  6, 28, 18, 11, 29,  4, 20,  0, 31, 12, 36,  3,\n",
      "        35, 26, 12, 19, 23, 31,  1, 17, 17, 12,  3,  6, 16, 26])\n",
      "tensor([18,  5,  8, 20,  8, 23, 30,  1,  3, 33, 35, 23, 36, 32, 25,  9, 29, 28,\n",
      "        12,  3,  2, 33, 11,  5, 13, 16, 16, 34, 34,  5, 24, 35])\n",
      "tensor([36,  9, 28, 32, 34, 16, 14,  6,  2, 32, 18, 24, 31,  2, 27, 33, 19, 22,\n",
      "        19, 34,  1, 15, 27, 35, 32,  3, 13, 27, 23, 17, 23,  5])\n",
      "tensor([ 4, 15, 34, 33, 26,  2,  0, 11, 11, 35, 13, 31,  3, 36,  1, 26, 28, 13,\n",
      "         0, 27,  7, 21,  6, 18, 12, 15, 29, 21, 10, 36,  3, 21])\n",
      "tensor([27, 27, 29, 22, 27, 31, 26,  7, 20, 19, 22,  1, 23,  1,  1,  9, 28, 34,\n",
      "         9,  6, 25, 23,  1, 12, 34,  6,  2, 33,  6,  1, 13, 34])\n",
      "tensor([24,  8, 32, 34, 11,  8,  0, 20, 19, 17, 17, 22, 13, 24, 19, 18, 25, 29,\n",
      "         4, 31, 35,  0, 22,  6, 26, 22,  7, 15,  9, 21,  3,  2])\n",
      "tensor([34, 33,  9, 36, 21,  2,  1, 26, 11, 35, 23, 28, 12, 16,  3, 32, 29, 20,\n",
      "        32,  4, 33, 36, 34,  4, 14,  4, 30, 33, 21, 33, 21, 17])\n",
      "tensor([ 6, 35,  7, 23, 23,  2, 10, 18, 26, 32, 30, 13, 10, 27,  5, 35, 19, 36,\n",
      "        34,  6,  3, 28,  5, 35, 21, 23, 10, 20, 13, 33, 34,  2])\n",
      "tensor([11, 17,  4, 25, 29, 21, 32,  7, 17, 21,  6, 29, 31, 23, 28, 19, 17, 10,\n",
      "        16, 18, 19, 34, 23, 31,  3, 16, 31, 32, 30, 35,  4,  5])\n",
      "tensor([11, 21, 35,  9, 32, 18, 17, 30, 14, 36, 25, 30, 17, 17, 31, 33,  1, 13,\n",
      "        24, 23,  8, 35, 20, 26,  9, 15,  5, 22, 27,  5, 11,  6])\n",
      "tensor([25, 36,  1, 14,  9, 10, 29, 19, 16,  6, 15, 33, 15, 14, 36, 26,  0, 22,\n",
      "         0, 34, 36, 20, 25, 24,  1, 22, 29,  7, 26,  9, 12, 28])\n",
      "tensor([13, 14, 29, 20, 28, 27, 35,  0, 29,  5, 24, 31, 16,  7, 29, 33,  2,  2,\n",
      "         4, 16, 20,  8, 31,  9, 25,  9, 27,  6, 28, 35, 30, 28])\n",
      "tensor([15, 30, 28,  4, 26,  8, 35, 15, 18, 11, 15,  5,  3,  7, 21, 30, 34, 14,\n",
      "         4, 11,  6, 14, 34, 31, 26, 20,  2, 12, 14, 14, 10,  3])\n",
      "tensor([10, 24,  9, 25, 16, 33, 13, 30,  6, 14, 34, 32, 23, 17, 18, 20, 31, 25,\n",
      "        35,  7, 34, 34,  7, 34, 19, 33, 29, 32, 30, 17,  1,  2])\n",
      "tensor([35,  4, 22, 25,  8, 27, 10, 11,  1, 14,  5, 26, 28, 22, 33, 23, 17,  6,\n",
      "        28,  7, 36,  6, 11, 35, 28, 36,  1, 27, 27, 10, 31, 36])\n",
      "tensor([ 8, 12,  2,  9, 16, 29,  4,  8,  0, 10, 34,  5,  5, 33, 12, 17, 27, 34,\n",
      "        28, 19, 22, 15, 19, 25, 11,  8, 31,  4, 26, 23, 30, 30])\n",
      "tensor([ 7, 23,  6,  0, 15,  1, 23, 15,  3,  7,  9, 30, 20, 19, 19, 11, 26,  0,\n",
      "         8, 26, 19, 19,  8, 30,  0, 31, 34,  6, 19, 13, 32, 13])\n",
      "tensor([ 3, 29, 14, 19,  1, 17,  1, 26, 27, 31, 13,  5, 33, 18,  9,  9, 14,  3,\n",
      "        17, 21, 11,  4,  3, 11, 24,  8, 10,  4,  8, 12,  2, 19])\n",
      "tensor([19, 35,  9, 15, 26, 16, 32, 30, 26,  2, 18,  1, 30, 10,  3, 12,  4, 11,\n",
      "        26, 14, 35,  6,  5,  2,  2, 15, 32,  8, 26, 34, 34, 23])\n",
      "tensor([22, 31, 18, 24, 19, 23, 17, 10,  4, 31, 19,  3, 14,  4,  1,  5, 14, 14,\n",
      "        18, 30,  9, 22,  9,  5, 23,  3, 29,  8, 36,  5, 17,  9])\n",
      "tensor([ 3, 29,  2, 23, 10, 12,  5, 19,  9,  9,  5, 12, 33, 32, 25, 34, 19, 26,\n",
      "        25, 13, 19, 20, 12,  7, 30,  5, 10, 35, 14, 32, 21, 24])\n",
      "tensor([ 0,  7, 36, 22,  0, 24,  1, 22,  9, 14, 27,  1, 32, 30, 24, 16, 33, 23,\n",
      "         5, 14, 19, 35,  9, 36, 21, 33,  6, 18, 24, 25, 19,  9])\n",
      "tensor([ 3, 35, 20, 11, 34,  2, 36,  7, 21,  2, 21, 26, 10, 24, 32, 31, 32, 15,\n",
      "         3, 21, 36, 24, 34, 29, 24, 31,  1, 21, 29, 27,  6, 16])\n",
      "tensor([13, 35,  7, 27, 24, 34, 32, 17,  4, 11, 21, 12, 24,  5, 11,  2, 13, 21,\n",
      "        34, 21, 18, 17, 16, 28, 13, 31,  9, 27, 33,  8, 30, 28])\n",
      "tensor([ 8, 32,  5,  0, 27, 30, 34, 10, 16, 17, 32,  9, 33, 26, 17,  6, 16, 26,\n",
      "        23, 20, 27, 36, 22, 15, 25, 16,  7, 30, 22,  7,  7, 27])\n",
      "tensor([27, 32, 28, 26, 28, 13,  9, 17, 31, 10, 28, 18,  3, 14, 32,  0,  1, 30,\n",
      "        24, 27, 30, 24, 13, 22, 35, 20, 17,  1, 26,  6, 17,  0])\n",
      "tensor([35,  3, 35, 29, 28,  6, 23,  0, 11, 26,  4, 12, 16, 31,  8, 20,  8, 27,\n",
      "        11, 32, 19, 16, 19, 18,  1, 31, 15, 20, 36,  1, 15, 24])\n",
      "tensor([11, 11, 10,  9, 16, 15, 34, 36, 36, 18, 28, 25, 29, 19, 27, 24, 20, 21,\n",
      "        20,  5, 16,  9, 24, 28,  8, 30, 21, 22, 17, 23,  5, 32])\n",
      "tensor([18, 20, 22, 31,  5,  4, 27, 20, 36, 26, 16, 28, 14, 32,  3, 15,  8,  3,\n",
      "        12, 12, 36, 11, 14, 21,  8, 36,  5,  2, 24, 30, 21, 35])\n",
      "tensor([15, 15, 28,  9, 26, 35, 17,  8, 22, 18,  0, 35, 30, 22, 11, 21, 30, 13,\n",
      "         4, 36, 20, 12,  9, 11,  1, 15, 29, 29, 11, 28, 34, 35])\n",
      "tensor([14,  2, 25, 13,  0, 28, 11,  5,  0, 14,  8, 30, 36,  5, 28, 31, 25,  2,\n",
      "         8, 36, 26,  7,  1,  9, 35, 25,  7,  7,  9,  1,  3, 15])\n",
      "tensor([ 4, 20, 25, 31, 31, 25,  3,  3,  6,  4,  4,  8, 13,  3, 18,  1, 27, 35,\n",
      "        18, 27, 21,  3,  4, 19, 32, 31, 26, 12, 32,  4,  2, 27])\n",
      "tensor([ 7, 11,  4, 24, 18, 17, 14, 10,  2, 16, 12, 19, 23, 30, 21, 26, 35, 10,\n",
      "        20, 29, 12, 33, 33, 16, 30, 25, 10, 29, 13,  9, 35, 17])\n",
      "tensor([ 7, 33, 12,  8, 13, 33, 12, 12, 26,  6, 19, 22, 24, 14, 15, 35,  0,  9,\n",
      "         5, 29, 32,  3, 20, 23,  7, 11, 36, 21, 28, 27, 32, 35])\n",
      "tensor([ 2, 20, 23, 29, 18, 28,  2, 22, 12,  6, 28, 27, 26,  1, 28, 18, 18,  2,\n",
      "        36, 31, 30, 22, 27, 18, 26,  1,  7, 36, 22,  6, 22,  7])\n",
      "tensor([ 5, 34, 29, 10, 22,  6, 12, 13, 24, 13,  6, 21, 14, 13, 24, 36, 31,  5,\n",
      "        24, 16,  4, 22, 34, 35, 12, 10, 36,  6, 10, 20,  2, 12])\n",
      "tensor([ 1, 33, 36,  3, 12, 19,  5, 25, 35, 15, 17,  6,  7, 32, 35, 17,  7, 35,\n",
      "        13, 36, 29, 13, 25, 34, 15, 12, 13,  8,  6,  0,  1, 14])\n",
      "tensor([29,  4, 30, 29, 14,  9, 22,  9, 30, 13,  6, 32,  9, 28,  8, 21,  0,  3,\n",
      "        28,  0, 15,  0, 36, 30, 36,  3,  0, 31,  5, 33, 26, 20])\n",
      "tensor([34, 29, 28, 21, 28, 26, 10, 11, 29, 31,  7, 26, 25,  5,  7, 29])\n"
     ]
    }
   ],
   "source": [
    "for input, label in train_loader:\n",
    "    print(label)"
   ]
  },
  {
   "cell_type": "code",
   "execution_count": 37,
   "metadata": {},
   "outputs": [
    {
     "data": {
      "text/plain": [
       "<torch.utils.data.dataset.Subset at 0x7f3390bdf6d0>"
      ]
     },
     "execution_count": 37,
     "metadata": {},
     "output_type": "execute_result"
    }
   ],
   "source": [
    "train_loader.dataset"
   ]
  },
  {
   "cell_type": "code",
   "execution_count": 39,
   "metadata": {},
   "outputs": [
    {
     "data": {
      "text/plain": [
       "<torch.utils.data.dataloader.DataLoader at 0x7f3390d54b10>"
      ]
     },
     "execution_count": 39,
     "metadata": {},
     "output_type": "execute_result"
    }
   ],
   "source": [
    "test_loader"
   ]
  }
 ],
 "metadata": {
  "kernelspec": {
   "display_name": ".venv",
   "language": "python",
   "name": "python3"
  },
  "language_info": {
   "codemirror_mode": {
    "name": "ipython",
    "version": 3
   },
   "file_extension": ".py",
   "mimetype": "text/x-python",
   "name": "python",
   "nbconvert_exporter": "python",
   "pygments_lexer": "ipython3",
   "version": "3.11.8"
  }
 },
 "nbformat": 4,
 "nbformat_minor": 2
}
