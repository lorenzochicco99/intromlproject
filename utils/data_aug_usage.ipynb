{
 "cells": [
  {
   "cell_type": "code",
   "execution_count": 12,
   "metadata": {},
   "outputs": [],
   "source": [
    "import tensorflow as tf\n",
    "from data_aug_utils import *\n",
    "import os\n",
    "import PIL"
   ]
  },
  {
   "cell_type": "code",
   "execution_count": 13,
   "metadata": {},
   "outputs": [
    {
     "name": "stdout",
     "output_type": "stream",
     "text": [
      "Downloading data from https://storage.googleapis.com/download.tensorflow.org/example_images/flower_photos.tgz\n",
      "\u001b[1m228813984/228813984\u001b[0m \u001b[32m━━━━━━━━━━━━━━━━━━━━\u001b[0m\u001b[37m\u001b[0m \u001b[1m58s\u001b[0m 0us/step\n"
     ]
    }
   ],
   "source": [
    "# Download and Extract Dataset\n",
    "\n",
    "# edit dataset_url, folder_name\n",
    "dataset_url = \"https://storage.googleapis.com/download.tensorflow.org/example_images/flower_photos.tgz\"\n",
    "folder_name = \"flower_photos\"\n",
    "data_dir = get_data_file(folder_name, dataset_url)"
   ]
  },
  {
   "cell_type": "code",
   "execution_count": 14,
   "metadata": {},
   "outputs": [
    {
     "name": "stdout",
     "output_type": "stream",
     "text": [
      "Found 3670 images belonging to 5 classes.\n"
     ]
    }
   ],
   "source": [
    "# Load Data and Apply Augmentation\n",
    "target_size = (150, 150)\n",
    "batch_size = 32\n",
    "train_generator = load_data_from_directory(data_dir, target_size, batch_size)"
   ]
  },
  {
   "cell_type": "code",
   "execution_count": 15,
   "metadata": {},
   "outputs": [],
   "source": [
    "n_of_batches = 50\n",
    "savefolder_name = \"datasets/flower_photos\"\n",
    "# Base directory where each class has its own subdirectory\n",
    "for i, (images, labels) in enumerate(train_generator):\n",
    "    if i >= n_of_batches:  # Stop after saving images from 50 batches\n",
    "        break\n",
    "    save_augmented_images(images, labels, savefolder_name, train_generator.class_indices)\n",
    "\n",
    "# note: change the number of batches, if you run this cell n times, it will replace every generated image, also it might sample\n",
    "# already generated images creating something very different from original data."
   ]
  }
 ],
 "metadata": {
  "kernelspec": {
   "display_name": "data-aug",
   "language": "python",
   "name": "python3"
  },
  "language_info": {
   "codemirror_mode": {
    "name": "ipython",
    "version": 3
   },
   "file_extension": ".py",
   "mimetype": "text/x-python",
   "name": "python",
   "nbconvert_exporter": "python",
   "pygments_lexer": "ipython3",
   "version": "3.12.0"
  }
 },
 "nbformat": 4,
 "nbformat_minor": 2
}
